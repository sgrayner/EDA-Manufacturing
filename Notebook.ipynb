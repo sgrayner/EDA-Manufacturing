{
 "cells": [
  {
   "cell_type": "markdown",
   "metadata": {},
   "source": [
    "First we import the modules necessary for the project."
   ]
  },
  {
   "cell_type": "code",
   "execution_count": 1,
   "metadata": {},
   "outputs": [
    {
     "name": "stderr",
     "output_type": "stream",
     "text": [
      "c:\\Users\\srayn\\EDA-manufacturing\\db_utils.py:100: SettingWithCopyWarning: \n",
      "A value is trying to be set on a copy of a slice from a DataFrame.\n",
      "Try using .loc[row_indexer,col_indexer] = value instead\n",
      "\n",
      "See the caveats in the documentation: https://pandas.pydata.org/pandas-docs/stable/user_guide/indexing.html#returning-a-view-versus-a-copy\n",
      "  process_temp_nulls['Process temperature [K]'] = np.round(process_temp_gradient * process_temp_nulls['Air temperature [K]'] + process_temp_intercept, 1)\n",
      "c:\\Users\\srayn\\EDA-manufacturing\\db_utils.py:102: SettingWithCopyWarning: \n",
      "A value is trying to be set on a copy of a slice from a DataFrame.\n",
      "Try using .loc[row_indexer,col_indexer] = value instead\n",
      "\n",
      "See the caveats in the documentation: https://pandas.pydata.org/pandas-docs/stable/user_guide/indexing.html#returning-a-view-versus-a-copy\n",
      "  air_temp_nulls['Air temperature [K]'] = np.round(air_temp_gradient * air_temp_nulls['Process temperature [K]'] + air_temp_intercept, 1)\n",
      "c:\\Users\\srayn\\EDA-manufacturing\\db_utils.py:106: SettingWithCopyWarning: \n",
      "A value is trying to be set on a copy of a slice from a DataFrame.\n",
      "Try using .loc[row_indexer,col_indexer] = value instead\n",
      "\n",
      "See the caveats in the documentation: https://pandas.pydata.org/pandas-docs/stable/user_guide/indexing.html#returning-a-view-versus-a-copy\n",
      "  df['Tool wear [min]'] = df['Tool wear [min]'].fillna(df['Tool wear [min]'].mean())\n",
      "c:\\Users\\srayn\\EDA-manufacturing\\db_utils.py:116: SettingWithCopyWarning: \n",
      "A value is trying to be set on a copy of a slice from a DataFrame.\n",
      "Try using .loc[row_indexer,col_indexer] = value instead\n",
      "\n",
      "See the caveats in the documentation: https://pandas.pydata.org/pandas-docs/stable/user_guide/indexing.html#returning-a-view-versus-a-copy\n",
      "  df['Rotational speed [rpm]'] = boxcox(df['Rotational speed [rpm]'])[0]\n",
      "c:\\Users\\srayn\\EDA-manufacturing\\db_utils.py:135: SettingWithCopyWarning: \n",
      "A value is trying to be set on a copy of a slice from a DataFrame.\n",
      "Try using .loc[row_indexer,col_indexer] = value instead\n",
      "\n",
      "See the caveats in the documentation: https://pandas.pydata.org/pandas-docs/stable/user_guide/indexing.html#returning-a-view-versus-a-copy\n",
      "  df['z-score'] = (df[column] - df[column].mean())/df[column].std()\n",
      "c:\\Users\\srayn\\EDA-manufacturing\\db_utils.py:138: SettingWithCopyWarning: \n",
      "A value is trying to be set on a copy of a slice from a DataFrame\n",
      "\n",
      "See the caveats in the documentation: https://pandas.pydata.org/pandas-docs/stable/user_guide/indexing.html#returning-a-view-versus-a-copy\n",
      "  df.drop('z-score', axis=1, inplace=True)\n",
      "c:\\Users\\srayn\\EDA-manufacturing\\db_utils.py:135: SettingWithCopyWarning: \n",
      "A value is trying to be set on a copy of a slice from a DataFrame.\n",
      "Try using .loc[row_indexer,col_indexer] = value instead\n",
      "\n",
      "See the caveats in the documentation: https://pandas.pydata.org/pandas-docs/stable/user_guide/indexing.html#returning-a-view-versus-a-copy\n",
      "  df['z-score'] = (df[column] - df[column].mean())/df[column].std()\n",
      "c:\\Users\\srayn\\EDA-manufacturing\\db_utils.py:138: SettingWithCopyWarning: \n",
      "A value is trying to be set on a copy of a slice from a DataFrame\n",
      "\n",
      "See the caveats in the documentation: https://pandas.pydata.org/pandas-docs/stable/user_guide/indexing.html#returning-a-view-versus-a-copy\n",
      "  df.drop('z-score', axis=1, inplace=True)\n",
      "c:\\Users\\srayn\\EDA-manufacturing\\db_utils.py:148: SettingWithCopyWarning: \n",
      "A value is trying to be set on a copy of a slice from a DataFrame\n",
      "\n",
      "See the caveats in the documentation: https://pandas.pydata.org/pandas-docs/stable/user_guide/indexing.html#returning-a-view-versus-a-copy\n",
      "  df.drop('Rotational speed [rpm]', axis=1, inplace=True) # VIF = 6.25\n"
     ]
    }
   ],
   "source": [
    "import plotly.express as px\n",
    "import matplotlib.pyplot as plt\n",
    "import statsmodels.formula.api as smf\n",
    "\n",
    "import db_utils as du"
   ]
  },
  {
   "cell_type": "markdown",
   "metadata": {},
   "source": [
    "## Extracting and cleaning the data\n",
    "\n",
    "We use class methods from the db_utils.py file to clean and analyse our data.\n",
    "\n",
    "First we download the data from the RDS database, save it to the local machine, and upload it into a dataframe."
   ]
  },
  {
   "cell_type": "code",
   "execution_count": 2,
   "metadata": {},
   "outputs": [],
   "source": [
    "dc = du.RDSDatabaseConnector('credentials.yaml')\n",
    "df = dc.read_rds_table(table='failure_data')\n",
    "dc.save_data('failure_data', 'failure_data.csv')\n",
    "df = du.RDSDatabaseConnector.load_data('failure_data.csv')\n"
   ]
  },
  {
   "cell_type": "markdown",
   "metadata": {},
   "source": [
    "We can now view the dataframe and check column types."
   ]
  },
  {
   "cell_type": "code",
   "execution_count": 3,
   "metadata": {},
   "outputs": [
    {
     "data": {
      "text/html": [
       "<div>\n",
       "<style scoped>\n",
       "    .dataframe tbody tr th:only-of-type {\n",
       "        vertical-align: middle;\n",
       "    }\n",
       "\n",
       "    .dataframe tbody tr th {\n",
       "        vertical-align: top;\n",
       "    }\n",
       "\n",
       "    .dataframe thead th {\n",
       "        text-align: right;\n",
       "    }\n",
       "</style>\n",
       "<table border=\"1\" class=\"dataframe\">\n",
       "  <thead>\n",
       "    <tr style=\"text-align: right;\">\n",
       "      <th></th>\n",
       "      <th>UDI</th>\n",
       "      <th>Product ID</th>\n",
       "      <th>Type</th>\n",
       "      <th>Air temperature [K]</th>\n",
       "      <th>Process temperature [K]</th>\n",
       "      <th>Rotational speed [rpm]</th>\n",
       "      <th>Torque [Nm]</th>\n",
       "      <th>Tool wear [min]</th>\n",
       "      <th>Machine failure</th>\n",
       "      <th>TWF</th>\n",
       "      <th>HDF</th>\n",
       "      <th>PWF</th>\n",
       "      <th>OSF</th>\n",
       "      <th>RNF</th>\n",
       "    </tr>\n",
       "  </thead>\n",
       "  <tbody>\n",
       "    <tr>\n",
       "      <th>0</th>\n",
       "      <td>3416</td>\n",
       "      <td>L50595</td>\n",
       "      <td>L</td>\n",
       "      <td>301.4</td>\n",
       "      <td>310.4</td>\n",
       "      <td>1579</td>\n",
       "      <td>36.9</td>\n",
       "      <td>133.0</td>\n",
       "      <td>0</td>\n",
       "      <td>0</td>\n",
       "      <td>0</td>\n",
       "      <td>0</td>\n",
       "      <td>0</td>\n",
       "      <td>0</td>\n",
       "    </tr>\n",
       "    <tr>\n",
       "      <th>1</th>\n",
       "      <td>7130</td>\n",
       "      <td>L54309</td>\n",
       "      <td>L</td>\n",
       "      <td>300.6</td>\n",
       "      <td>310.0</td>\n",
       "      <td>1635</td>\n",
       "      <td>31.0</td>\n",
       "      <td>107.0</td>\n",
       "      <td>0</td>\n",
       "      <td>0</td>\n",
       "      <td>0</td>\n",
       "      <td>0</td>\n",
       "      <td>0</td>\n",
       "      <td>0</td>\n",
       "    </tr>\n",
       "    <tr>\n",
       "      <th>2</th>\n",
       "      <td>2320</td>\n",
       "      <td>M17179</td>\n",
       "      <td>M</td>\n",
       "      <td>299.2</td>\n",
       "      <td>308.8</td>\n",
       "      <td>1700</td>\n",
       "      <td>33.5</td>\n",
       "      <td>185.0</td>\n",
       "      <td>0</td>\n",
       "      <td>0</td>\n",
       "      <td>0</td>\n",
       "      <td>0</td>\n",
       "      <td>0</td>\n",
       "      <td>0</td>\n",
       "    </tr>\n",
       "    <tr>\n",
       "      <th>3</th>\n",
       "      <td>9601</td>\n",
       "      <td>M24460</td>\n",
       "      <td>M</td>\n",
       "      <td>298.9</td>\n",
       "      <td>310.0</td>\n",
       "      <td>1561</td>\n",
       "      <td>45.3</td>\n",
       "      <td>58.0</td>\n",
       "      <td>0</td>\n",
       "      <td>0</td>\n",
       "      <td>0</td>\n",
       "      <td>0</td>\n",
       "      <td>0</td>\n",
       "      <td>0</td>\n",
       "    </tr>\n",
       "    <tr>\n",
       "      <th>4</th>\n",
       "      <td>614</td>\n",
       "      <td>L47793</td>\n",
       "      <td>L</td>\n",
       "      <td>298.1</td>\n",
       "      <td>309.9</td>\n",
       "      <td>1634</td>\n",
       "      <td>30.0</td>\n",
       "      <td>53.0</td>\n",
       "      <td>0</td>\n",
       "      <td>0</td>\n",
       "      <td>0</td>\n",
       "      <td>0</td>\n",
       "      <td>0</td>\n",
       "      <td>0</td>\n",
       "    </tr>\n",
       "    <tr>\n",
       "      <th>5</th>\n",
       "      <td>4602</td>\n",
       "      <td>M19461</td>\n",
       "      <td>M</td>\n",
       "      <td>303.0</td>\n",
       "      <td>311.1</td>\n",
       "      <td>1372</td>\n",
       "      <td>54.3</td>\n",
       "      <td>117.0</td>\n",
       "      <td>1</td>\n",
       "      <td>0</td>\n",
       "      <td>1</td>\n",
       "      <td>0</td>\n",
       "      <td>0</td>\n",
       "      <td>0</td>\n",
       "    </tr>\n",
       "    <tr>\n",
       "      <th>6</th>\n",
       "      <td>5247</td>\n",
       "      <td>L52426</td>\n",
       "      <td>L</td>\n",
       "      <td>NaN</td>\n",
       "      <td>NaN</td>\n",
       "      <td>1465</td>\n",
       "      <td>41.0</td>\n",
       "      <td>56.0</td>\n",
       "      <td>0</td>\n",
       "      <td>0</td>\n",
       "      <td>0</td>\n",
       "      <td>0</td>\n",
       "      <td>0</td>\n",
       "      <td>0</td>\n",
       "    </tr>\n",
       "    <tr>\n",
       "      <th>7</th>\n",
       "      <td>7008</td>\n",
       "      <td>L54187</td>\n",
       "      <td>L</td>\n",
       "      <td>300.5</td>\n",
       "      <td>310.6</td>\n",
       "      <td>1499</td>\n",
       "      <td>45.2</td>\n",
       "      <td>8.0</td>\n",
       "      <td>0</td>\n",
       "      <td>0</td>\n",
       "      <td>0</td>\n",
       "      <td>0</td>\n",
       "      <td>0</td>\n",
       "      <td>0</td>\n",
       "    </tr>\n",
       "    <tr>\n",
       "      <th>8</th>\n",
       "      <td>9375</td>\n",
       "      <td>M24234</td>\n",
       "      <td>M</td>\n",
       "      <td>297.8</td>\n",
       "      <td>308.5</td>\n",
       "      <td>1466</td>\n",
       "      <td>44.7</td>\n",
       "      <td>88.0</td>\n",
       "      <td>0</td>\n",
       "      <td>0</td>\n",
       "      <td>0</td>\n",
       "      <td>0</td>\n",
       "      <td>0</td>\n",
       "      <td>0</td>\n",
       "    </tr>\n",
       "    <tr>\n",
       "      <th>9</th>\n",
       "      <td>1962</td>\n",
       "      <td>L49141</td>\n",
       "      <td>L</td>\n",
       "      <td>297.8</td>\n",
       "      <td>NaN</td>\n",
       "      <td>1448</td>\n",
       "      <td>51.2</td>\n",
       "      <td>107.0</td>\n",
       "      <td>0</td>\n",
       "      <td>0</td>\n",
       "      <td>0</td>\n",
       "      <td>0</td>\n",
       "      <td>0</td>\n",
       "      <td>0</td>\n",
       "    </tr>\n",
       "  </tbody>\n",
       "</table>\n",
       "</div>"
      ],
      "text/plain": [
       "    UDI Product ID Type  Air temperature [K]  Process temperature [K]  \\\n",
       "0  3416     L50595    L                301.4                    310.4   \n",
       "1  7130     L54309    L                300.6                    310.0   \n",
       "2  2320     M17179    M                299.2                    308.8   \n",
       "3  9601     M24460    M                298.9                    310.0   \n",
       "4   614     L47793    L                298.1                    309.9   \n",
       "5  4602     M19461    M                303.0                    311.1   \n",
       "6  5247     L52426    L                  NaN                      NaN   \n",
       "7  7008     L54187    L                300.5                    310.6   \n",
       "8  9375     M24234    M                297.8                    308.5   \n",
       "9  1962     L49141    L                297.8                      NaN   \n",
       "\n",
       "   Rotational speed [rpm]  Torque [Nm]  Tool wear [min]  Machine failure  TWF  \\\n",
       "0                    1579         36.9            133.0                0    0   \n",
       "1                    1635         31.0            107.0                0    0   \n",
       "2                    1700         33.5            185.0                0    0   \n",
       "3                    1561         45.3             58.0                0    0   \n",
       "4                    1634         30.0             53.0                0    0   \n",
       "5                    1372         54.3            117.0                1    0   \n",
       "6                    1465         41.0             56.0                0    0   \n",
       "7                    1499         45.2              8.0                0    0   \n",
       "8                    1466         44.7             88.0                0    0   \n",
       "9                    1448         51.2            107.0                0    0   \n",
       "\n",
       "   HDF  PWF  OSF  RNF  \n",
       "0    0    0    0    0  \n",
       "1    0    0    0    0  \n",
       "2    0    0    0    0  \n",
       "3    0    0    0    0  \n",
       "4    0    0    0    0  \n",
       "5    1    0    0    0  \n",
       "6    0    0    0    0  \n",
       "7    0    0    0    0  \n",
       "8    0    0    0    0  \n",
       "9    0    0    0    0  "
      ]
     },
     "metadata": {},
     "output_type": "display_data"
    },
    {
     "name": "stdout",
     "output_type": "stream",
     "text": [
      "<class 'pandas.core.frame.DataFrame'>\n",
      "RangeIndex: 10000 entries, 0 to 9999\n",
      "Data columns (total 14 columns):\n",
      " #   Column                   Non-Null Count  Dtype  \n",
      "---  ------                   --------------  -----  \n",
      " 0   UDI                      10000 non-null  int64  \n",
      " 1   Product ID               10000 non-null  object \n",
      " 2   Type                     10000 non-null  object \n",
      " 3   Air temperature [K]      9162 non-null   float64\n",
      " 4   Process temperature [K]  9119 non-null   float64\n",
      " 5   Rotational speed [rpm]   10000 non-null  int64  \n",
      " 6   Torque [Nm]              10000 non-null  float64\n",
      " 7   Tool wear [min]          9516 non-null   float64\n",
      " 8   Machine failure          10000 non-null  int64  \n",
      " 9   TWF                      10000 non-null  int64  \n",
      " 10  HDF                      10000 non-null  int64  \n",
      " 11  PWF                      10000 non-null  int64  \n",
      " 12  OSF                      10000 non-null  int64  \n",
      " 13  RNF                      10000 non-null  int64  \n",
      "dtypes: float64(4), int64(8), object(2)\n",
      "memory usage: 1.1+ MB\n",
      "None\n"
     ]
    }
   ],
   "source": [
    "display(df.head(10))\n",
    "print(df.info())"
   ]
  },
  {
   "cell_type": "markdown",
   "metadata": {},
   "source": [
    "We check the formats of the entries in the columns, to check for invalid or erroneous values. We can conclude from the following lines of code:\n",
    "\n",
    "- The 'UDI' column contains exactly all the integers from 1 to 10000.\n",
    "- The 'Product ID' column entries are all of the format of one capital letter followed by 5 digits.\n",
    "- The 'Type' column takes values 'L', 'M' and 'H' only.\n",
    "- 'Air temperature', 'Process temperature', 'Rotational speed', 'Torque' and 'Tool wear' are within expected ranges, so do not contain any erroneous values.\n",
    "- Machine failure, TWF, HDF, PWF, OSF and RNF are boolean variables.\n"
   ]
  },
  {
   "cell_type": "code",
   "execution_count": 4,
   "metadata": {},
   "outputs": [
    {
     "name": "stdout",
     "output_type": "stream",
     "text": [
      "10000\n",
      "0\n",
      "L    6000\n",
      "M    2997\n",
      "H    1003\n",
      "Name: Type, dtype: int64\n",
      "count    9162.000000\n",
      "mean      300.008590\n",
      "std         1.999148\n",
      "min       295.300000\n",
      "25%       298.300000\n",
      "50%       300.100000\n",
      "75%       301.500000\n",
      "max       304.500000\n",
      "Name: Air temperature [K], dtype: float64\n",
      "0    9661\n",
      "1     339\n",
      "Name: Machine failure, dtype: int64\n"
     ]
    }
   ],
   "source": [
    "print(len(set(df['UDI']) & set(range(1, 10001))))\n",
    "\n",
    "print(len(df[df['Product ID'].str.contains(r'^[A-Z]\\d{5}$') == False]))\n",
    "\n",
    "print(df['Type'].value_counts())\n",
    "\n",
    "print(df['Air temperature [K]'].describe()) # Similarly for process temperature, rotational speed, torque and tool wear.\n",
    "\n",
    "print(df['Machine failure'].value_counts()) # Similarly for TWF, HDF, PWF, OSF, RNF."
   ]
  },
  {
   "cell_type": "markdown",
   "metadata": {},
   "source": [
    "As all columns are clean (except for null values), there is not much cleaning to do. The only thing we do in our cleaning function is therefore to convert the 'Type' column to the 'category' data type."
   ]
  },
  {
   "cell_type": "code",
   "execution_count": 5,
   "metadata": {},
   "outputs": [],
   "source": [
    "dt = du.DataTransform\n",
    "df = dt.cleaning(df)"
   ]
  },
  {
   "cell_type": "markdown",
   "metadata": {},
   "source": [
    "## Preparing the data\n",
    "\n",
    "To investigate how best we can impute the null values, we will check the correlation heatmap."
   ]
  },
  {
   "cell_type": "code",
   "execution_count": 6,
   "metadata": {},
   "outputs": [
    {
     "name": "stderr",
     "output_type": "stream",
     "text": [
      "C:\\Users\\srayn\\AppData\\Local\\Temp\\ipykernel_2788\\2245194622.py:1: FutureWarning: The default value of numeric_only in DataFrame.corr is deprecated. In a future version, it will default to False. Select only valid columns or specify the value of numeric_only to silence this warning.\n",
      "  px.imshow(df.corr(), title=\"Correlation heatmap of dataframe\")\n"
     ]
    },
    {
     "data": {
      "application/vnd.plotly.v1+json": {
       "config": {
        "plotlyServerURL": "https://plot.ly"
       },
       "data": [
        {
         "coloraxis": "coloraxis",
         "hovertemplate": "x: %{x}<br>y: %{y}<br>color: %{z}<extra></extra>",
         "name": "0",
         "type": "heatmap",
         "x": [
          "UDI",
          "Air temperature [K]",
          "Process temperature [K]",
          "Rotational speed [rpm]",
          "Torque [Nm]",
          "Tool wear [min]",
          "Machine failure",
          "TWF",
          "HDF",
          "PWF",
          "OSF",
          "RNF"
         ],
         "xaxis": "x",
         "y": [
          "UDI",
          "Air temperature [K]",
          "Process temperature [K]",
          "Rotational speed [rpm]",
          "Torque [Nm]",
          "Tool wear [min]",
          "Machine failure",
          "TWF",
          "HDF",
          "PWF",
          "OSF",
          "RNF"
         ],
         "yaxis": "y",
         "z": [
          [
           1,
           0.11238625071180222,
           0.32612106078845615,
           -0.006614868271094674,
           0.0032065864720418075,
           -0.013121751634223435,
           -0.022891805548006783,
           0.009154380960882192,
           -0.022214737201857977,
           -0.0235565593194333,
           -0.0009902589512686812,
           -0.0059537362242041494
          ],
          [
           0.11238625071180222,
           1,
           0.8747845663953107,
           0.024038008057235175,
           -0.01573817402226949,
           0.01517304552696242,
           0.08117555179580667,
           0.009530915913718805,
           0.13773146223513316,
           0.00452890178510231,
           -0.00043276640668492506,
           0.022905263794346462
          ],
          [
           0.32612106078845615,
           0.8747845663953107,
           1,
           0.014504477862235238,
           -0.010804714728661773,
           0.007686951324659176,
           0.03778304803487911,
           0.010233907059866551,
           0.05721519778023867,
           -0.004305684655102668,
           0.004987699514961295,
           0.021019391690565766
          ],
          [
           -0.006614868271094674,
           0.024038008057235175,
           0.014504477862235238,
           1,
           -0.875027086299608,
           -0.002750756283615103,
           -0.04418755973437499,
           0.010389052615371283,
           -0.12124069274241624,
           0.12301783801418674,
           -0.10457471184668739,
           -0.013087570245775233
          ],
          [
           0.0032065864720418075,
           -0.01573817402226949,
           -0.010804714728661773,
           -0.875027086299608,
           1,
           0.00099489095000637,
           0.1913207750594933,
           -0.014661627020794129,
           0.14261018182526541,
           0.08378107782507366,
           0.18346479499435547,
           0.016136499193894194
          ],
          [
           -0.013121751634223435,
           0.01517304552696242,
           0.007686951324659176,
           -0.002750756283615103,
           0.00099489095000637,
           1,
           0.10401628995717926,
           0.11546068253704417,
           -0.0021505893139931345,
           -0.009766292267010495,
           0.15647427941702824,
           0.011429525792458518
          ],
          [
           -0.022891805548006783,
           0.08117555179580667,
           0.03778304803487911,
           -0.04418755973437499,
           0.1913207750594933,
           0.10401628995717926,
           1,
           0.36290361100612684,
           0.5758001521562357,
           0.5228122496269675,
           0.5310834511801936,
           0.00451599309878694
          ],
          [
           0.009154380960882192,
           0.009530915913718805,
           0.010233907059866551,
           0.010389052615371283,
           -0.014661627020794129,
           0.11546068253704417,
           0.36290361100612684,
           1,
           -0.007332307685911678,
           0.008577122607266131,
           0.03824297564601238,
           0.030969835754263323
          ],
          [
           -0.022214737201857977,
           0.13773146223513316,
           0.05721519778023867,
           -0.12124069274241624,
           0.14261018182526541,
           -0.0021505893139931345,
           0.5758001521562357,
           -0.007332307685911678,
           1,
           0.01844328371239208,
           0.0463964396932686,
           -0.0047059830221763636
          ],
          [
           -0.0235565593194333,
           0.00452890178510231,
           -0.004305684655102668,
           0.12301783801418674,
           0.08378107782507366,
           -0.009766292267010495,
           0.5228122496269675,
           0.008577122607266131,
           0.01844328371239208,
           1,
           0.1158363450811437,
           -0.004272915804757792
          ],
          [
           -0.0009902589512686812,
           -0.00043276640668492506,
           0.004987699514961295,
           -0.10457471184668739,
           0.18346479499435547,
           0.15647427941702824,
           0.5310834511801936,
           0.03824297564601238,
           0.0463964396932686,
           0.1158363450811437,
           1,
           -0.004340515880820153
          ],
          [
           -0.0059537362242041494,
           0.022905263794346462,
           0.021019391690565766,
           -0.013087570245775233,
           0.016136499193894194,
           0.011429525792458518,
           0.00451599309878694,
           0.030969835754263323,
           -0.0047059830221763636,
           -0.004272915804757792,
           -0.004340515880820153,
           1
          ]
         ]
        }
       ],
       "layout": {
        "coloraxis": {
         "colorscale": [
          [
           0,
           "#0d0887"
          ],
          [
           0.1111111111111111,
           "#46039f"
          ],
          [
           0.2222222222222222,
           "#7201a8"
          ],
          [
           0.3333333333333333,
           "#9c179e"
          ],
          [
           0.4444444444444444,
           "#bd3786"
          ],
          [
           0.5555555555555556,
           "#d8576b"
          ],
          [
           0.6666666666666666,
           "#ed7953"
          ],
          [
           0.7777777777777778,
           "#fb9f3a"
          ],
          [
           0.8888888888888888,
           "#fdca26"
          ],
          [
           1,
           "#f0f921"
          ]
         ]
        },
        "template": {
         "data": {
          "bar": [
           {
            "error_x": {
             "color": "#2a3f5f"
            },
            "error_y": {
             "color": "#2a3f5f"
            },
            "marker": {
             "line": {
              "color": "#E5ECF6",
              "width": 0.5
             },
             "pattern": {
              "fillmode": "overlay",
              "size": 10,
              "solidity": 0.2
             }
            },
            "type": "bar"
           }
          ],
          "barpolar": [
           {
            "marker": {
             "line": {
              "color": "#E5ECF6",
              "width": 0.5
             },
             "pattern": {
              "fillmode": "overlay",
              "size": 10,
              "solidity": 0.2
             }
            },
            "type": "barpolar"
           }
          ],
          "carpet": [
           {
            "aaxis": {
             "endlinecolor": "#2a3f5f",
             "gridcolor": "white",
             "linecolor": "white",
             "minorgridcolor": "white",
             "startlinecolor": "#2a3f5f"
            },
            "baxis": {
             "endlinecolor": "#2a3f5f",
             "gridcolor": "white",
             "linecolor": "white",
             "minorgridcolor": "white",
             "startlinecolor": "#2a3f5f"
            },
            "type": "carpet"
           }
          ],
          "choropleth": [
           {
            "colorbar": {
             "outlinewidth": 0,
             "ticks": ""
            },
            "type": "choropleth"
           }
          ],
          "contour": [
           {
            "colorbar": {
             "outlinewidth": 0,
             "ticks": ""
            },
            "colorscale": [
             [
              0,
              "#0d0887"
             ],
             [
              0.1111111111111111,
              "#46039f"
             ],
             [
              0.2222222222222222,
              "#7201a8"
             ],
             [
              0.3333333333333333,
              "#9c179e"
             ],
             [
              0.4444444444444444,
              "#bd3786"
             ],
             [
              0.5555555555555556,
              "#d8576b"
             ],
             [
              0.6666666666666666,
              "#ed7953"
             ],
             [
              0.7777777777777778,
              "#fb9f3a"
             ],
             [
              0.8888888888888888,
              "#fdca26"
             ],
             [
              1,
              "#f0f921"
             ]
            ],
            "type": "contour"
           }
          ],
          "contourcarpet": [
           {
            "colorbar": {
             "outlinewidth": 0,
             "ticks": ""
            },
            "type": "contourcarpet"
           }
          ],
          "heatmap": [
           {
            "colorbar": {
             "outlinewidth": 0,
             "ticks": ""
            },
            "colorscale": [
             [
              0,
              "#0d0887"
             ],
             [
              0.1111111111111111,
              "#46039f"
             ],
             [
              0.2222222222222222,
              "#7201a8"
             ],
             [
              0.3333333333333333,
              "#9c179e"
             ],
             [
              0.4444444444444444,
              "#bd3786"
             ],
             [
              0.5555555555555556,
              "#d8576b"
             ],
             [
              0.6666666666666666,
              "#ed7953"
             ],
             [
              0.7777777777777778,
              "#fb9f3a"
             ],
             [
              0.8888888888888888,
              "#fdca26"
             ],
             [
              1,
              "#f0f921"
             ]
            ],
            "type": "heatmap"
           }
          ],
          "heatmapgl": [
           {
            "colorbar": {
             "outlinewidth": 0,
             "ticks": ""
            },
            "colorscale": [
             [
              0,
              "#0d0887"
             ],
             [
              0.1111111111111111,
              "#46039f"
             ],
             [
              0.2222222222222222,
              "#7201a8"
             ],
             [
              0.3333333333333333,
              "#9c179e"
             ],
             [
              0.4444444444444444,
              "#bd3786"
             ],
             [
              0.5555555555555556,
              "#d8576b"
             ],
             [
              0.6666666666666666,
              "#ed7953"
             ],
             [
              0.7777777777777778,
              "#fb9f3a"
             ],
             [
              0.8888888888888888,
              "#fdca26"
             ],
             [
              1,
              "#f0f921"
             ]
            ],
            "type": "heatmapgl"
           }
          ],
          "histogram": [
           {
            "marker": {
             "pattern": {
              "fillmode": "overlay",
              "size": 10,
              "solidity": 0.2
             }
            },
            "type": "histogram"
           }
          ],
          "histogram2d": [
           {
            "colorbar": {
             "outlinewidth": 0,
             "ticks": ""
            },
            "colorscale": [
             [
              0,
              "#0d0887"
             ],
             [
              0.1111111111111111,
              "#46039f"
             ],
             [
              0.2222222222222222,
              "#7201a8"
             ],
             [
              0.3333333333333333,
              "#9c179e"
             ],
             [
              0.4444444444444444,
              "#bd3786"
             ],
             [
              0.5555555555555556,
              "#d8576b"
             ],
             [
              0.6666666666666666,
              "#ed7953"
             ],
             [
              0.7777777777777778,
              "#fb9f3a"
             ],
             [
              0.8888888888888888,
              "#fdca26"
             ],
             [
              1,
              "#f0f921"
             ]
            ],
            "type": "histogram2d"
           }
          ],
          "histogram2dcontour": [
           {
            "colorbar": {
             "outlinewidth": 0,
             "ticks": ""
            },
            "colorscale": [
             [
              0,
              "#0d0887"
             ],
             [
              0.1111111111111111,
              "#46039f"
             ],
             [
              0.2222222222222222,
              "#7201a8"
             ],
             [
              0.3333333333333333,
              "#9c179e"
             ],
             [
              0.4444444444444444,
              "#bd3786"
             ],
             [
              0.5555555555555556,
              "#d8576b"
             ],
             [
              0.6666666666666666,
              "#ed7953"
             ],
             [
              0.7777777777777778,
              "#fb9f3a"
             ],
             [
              0.8888888888888888,
              "#fdca26"
             ],
             [
              1,
              "#f0f921"
             ]
            ],
            "type": "histogram2dcontour"
           }
          ],
          "mesh3d": [
           {
            "colorbar": {
             "outlinewidth": 0,
             "ticks": ""
            },
            "type": "mesh3d"
           }
          ],
          "parcoords": [
           {
            "line": {
             "colorbar": {
              "outlinewidth": 0,
              "ticks": ""
             }
            },
            "type": "parcoords"
           }
          ],
          "pie": [
           {
            "automargin": true,
            "type": "pie"
           }
          ],
          "scatter": [
           {
            "fillpattern": {
             "fillmode": "overlay",
             "size": 10,
             "solidity": 0.2
            },
            "type": "scatter"
           }
          ],
          "scatter3d": [
           {
            "line": {
             "colorbar": {
              "outlinewidth": 0,
              "ticks": ""
             }
            },
            "marker": {
             "colorbar": {
              "outlinewidth": 0,
              "ticks": ""
             }
            },
            "type": "scatter3d"
           }
          ],
          "scattercarpet": [
           {
            "marker": {
             "colorbar": {
              "outlinewidth": 0,
              "ticks": ""
             }
            },
            "type": "scattercarpet"
           }
          ],
          "scattergeo": [
           {
            "marker": {
             "colorbar": {
              "outlinewidth": 0,
              "ticks": ""
             }
            },
            "type": "scattergeo"
           }
          ],
          "scattergl": [
           {
            "marker": {
             "colorbar": {
              "outlinewidth": 0,
              "ticks": ""
             }
            },
            "type": "scattergl"
           }
          ],
          "scattermapbox": [
           {
            "marker": {
             "colorbar": {
              "outlinewidth": 0,
              "ticks": ""
             }
            },
            "type": "scattermapbox"
           }
          ],
          "scatterpolar": [
           {
            "marker": {
             "colorbar": {
              "outlinewidth": 0,
              "ticks": ""
             }
            },
            "type": "scatterpolar"
           }
          ],
          "scatterpolargl": [
           {
            "marker": {
             "colorbar": {
              "outlinewidth": 0,
              "ticks": ""
             }
            },
            "type": "scatterpolargl"
           }
          ],
          "scatterternary": [
           {
            "marker": {
             "colorbar": {
              "outlinewidth": 0,
              "ticks": ""
             }
            },
            "type": "scatterternary"
           }
          ],
          "surface": [
           {
            "colorbar": {
             "outlinewidth": 0,
             "ticks": ""
            },
            "colorscale": [
             [
              0,
              "#0d0887"
             ],
             [
              0.1111111111111111,
              "#46039f"
             ],
             [
              0.2222222222222222,
              "#7201a8"
             ],
             [
              0.3333333333333333,
              "#9c179e"
             ],
             [
              0.4444444444444444,
              "#bd3786"
             ],
             [
              0.5555555555555556,
              "#d8576b"
             ],
             [
              0.6666666666666666,
              "#ed7953"
             ],
             [
              0.7777777777777778,
              "#fb9f3a"
             ],
             [
              0.8888888888888888,
              "#fdca26"
             ],
             [
              1,
              "#f0f921"
             ]
            ],
            "type": "surface"
           }
          ],
          "table": [
           {
            "cells": {
             "fill": {
              "color": "#EBF0F8"
             },
             "line": {
              "color": "white"
             }
            },
            "header": {
             "fill": {
              "color": "#C8D4E3"
             },
             "line": {
              "color": "white"
             }
            },
            "type": "table"
           }
          ]
         },
         "layout": {
          "annotationdefaults": {
           "arrowcolor": "#2a3f5f",
           "arrowhead": 0,
           "arrowwidth": 1
          },
          "autotypenumbers": "strict",
          "coloraxis": {
           "colorbar": {
            "outlinewidth": 0,
            "ticks": ""
           }
          },
          "colorscale": {
           "diverging": [
            [
             0,
             "#8e0152"
            ],
            [
             0.1,
             "#c51b7d"
            ],
            [
             0.2,
             "#de77ae"
            ],
            [
             0.3,
             "#f1b6da"
            ],
            [
             0.4,
             "#fde0ef"
            ],
            [
             0.5,
             "#f7f7f7"
            ],
            [
             0.6,
             "#e6f5d0"
            ],
            [
             0.7,
             "#b8e186"
            ],
            [
             0.8,
             "#7fbc41"
            ],
            [
             0.9,
             "#4d9221"
            ],
            [
             1,
             "#276419"
            ]
           ],
           "sequential": [
            [
             0,
             "#0d0887"
            ],
            [
             0.1111111111111111,
             "#46039f"
            ],
            [
             0.2222222222222222,
             "#7201a8"
            ],
            [
             0.3333333333333333,
             "#9c179e"
            ],
            [
             0.4444444444444444,
             "#bd3786"
            ],
            [
             0.5555555555555556,
             "#d8576b"
            ],
            [
             0.6666666666666666,
             "#ed7953"
            ],
            [
             0.7777777777777778,
             "#fb9f3a"
            ],
            [
             0.8888888888888888,
             "#fdca26"
            ],
            [
             1,
             "#f0f921"
            ]
           ],
           "sequentialminus": [
            [
             0,
             "#0d0887"
            ],
            [
             0.1111111111111111,
             "#46039f"
            ],
            [
             0.2222222222222222,
             "#7201a8"
            ],
            [
             0.3333333333333333,
             "#9c179e"
            ],
            [
             0.4444444444444444,
             "#bd3786"
            ],
            [
             0.5555555555555556,
             "#d8576b"
            ],
            [
             0.6666666666666666,
             "#ed7953"
            ],
            [
             0.7777777777777778,
             "#fb9f3a"
            ],
            [
             0.8888888888888888,
             "#fdca26"
            ],
            [
             1,
             "#f0f921"
            ]
           ]
          },
          "colorway": [
           "#636efa",
           "#EF553B",
           "#00cc96",
           "#ab63fa",
           "#FFA15A",
           "#19d3f3",
           "#FF6692",
           "#B6E880",
           "#FF97FF",
           "#FECB52"
          ],
          "font": {
           "color": "#2a3f5f"
          },
          "geo": {
           "bgcolor": "white",
           "lakecolor": "white",
           "landcolor": "#E5ECF6",
           "showlakes": true,
           "showland": true,
           "subunitcolor": "white"
          },
          "hoverlabel": {
           "align": "left"
          },
          "hovermode": "closest",
          "mapbox": {
           "style": "light"
          },
          "paper_bgcolor": "white",
          "plot_bgcolor": "#E5ECF6",
          "polar": {
           "angularaxis": {
            "gridcolor": "white",
            "linecolor": "white",
            "ticks": ""
           },
           "bgcolor": "#E5ECF6",
           "radialaxis": {
            "gridcolor": "white",
            "linecolor": "white",
            "ticks": ""
           }
          },
          "scene": {
           "xaxis": {
            "backgroundcolor": "#E5ECF6",
            "gridcolor": "white",
            "gridwidth": 2,
            "linecolor": "white",
            "showbackground": true,
            "ticks": "",
            "zerolinecolor": "white"
           },
           "yaxis": {
            "backgroundcolor": "#E5ECF6",
            "gridcolor": "white",
            "gridwidth": 2,
            "linecolor": "white",
            "showbackground": true,
            "ticks": "",
            "zerolinecolor": "white"
           },
           "zaxis": {
            "backgroundcolor": "#E5ECF6",
            "gridcolor": "white",
            "gridwidth": 2,
            "linecolor": "white",
            "showbackground": true,
            "ticks": "",
            "zerolinecolor": "white"
           }
          },
          "shapedefaults": {
           "line": {
            "color": "#2a3f5f"
           }
          },
          "ternary": {
           "aaxis": {
            "gridcolor": "white",
            "linecolor": "white",
            "ticks": ""
           },
           "baxis": {
            "gridcolor": "white",
            "linecolor": "white",
            "ticks": ""
           },
           "bgcolor": "#E5ECF6",
           "caxis": {
            "gridcolor": "white",
            "linecolor": "white",
            "ticks": ""
           }
          },
          "title": {
           "x": 0.05
          },
          "xaxis": {
           "automargin": true,
           "gridcolor": "white",
           "linecolor": "white",
           "ticks": "",
           "title": {
            "standoff": 15
           },
           "zerolinecolor": "white",
           "zerolinewidth": 2
          },
          "yaxis": {
           "automargin": true,
           "gridcolor": "white",
           "linecolor": "white",
           "ticks": "",
           "title": {
            "standoff": 15
           },
           "zerolinecolor": "white",
           "zerolinewidth": 2
          }
         }
        },
        "title": {
         "text": "Correlation heatmap of dataframe"
        },
        "xaxis": {
         "anchor": "y",
         "constrain": "domain",
         "domain": [
          0,
          1
         ],
         "scaleanchor": "y"
        },
        "yaxis": {
         "anchor": "x",
         "autorange": "reversed",
         "constrain": "domain",
         "domain": [
          0,
          1
         ]
        }
       }
      }
     },
     "metadata": {},
     "output_type": "display_data"
    }
   ],
   "source": [
    "px.imshow(df.corr(), title=\"Correlation heatmap of dataframe\")"
   ]
  },
  {
   "cell_type": "markdown",
   "metadata": {},
   "source": [
    "From this heatmap, we can see that 'Air temperature \\[K\\]' and 'Process temperature \\[K\\]' are strongly positively correlated (0.87) while 'Rotational speed \\[rpm\\]' and 'Torque \\[Nm\\]' are strongly negatively correlated (-0.88)\n",
    "\n",
    "It would be good to see if we can impute the null values of Air temperature using the values of Process temperature and vice versa. This would only be possible where the null values of Air temperature do not align with the null values of Process temperature.\n",
    "\n",
    "We can check how many records out of the 838 missing Air temperature and 881 missing Process temperature are missing both values."
   ]
  },
  {
   "cell_type": "code",
   "execution_count": 7,
   "metadata": {},
   "outputs": [
    {
     "name": "stdout",
     "output_type": "stream",
     "text": [
      "79\n"
     ]
    }
   ],
   "source": [
    "air_temp_nulls = df['Air temperature [K]'].isnull()\n",
    "process_temp_nulls = df['Process temperature [K]'].isnull()\n",
    "\n",
    "print(len(df[air_temp_nulls & process_temp_nulls]))"
   ]
  },
  {
   "cell_type": "markdown",
   "metadata": {},
   "source": [
    "From this, we know that 91% of Air temperature values and Process temperature values can be imputed using linear regression.\n",
    "\n",
    "For the 79 records that are missing both Air and Process temperature values, as well as for 'Tool wear \\[min\\]', we will impute either with the median or the mean. We will calculate the skew of each variable to help us decide which statistic to use."
   ]
  },
  {
   "cell_type": "code",
   "execution_count": 8,
   "metadata": {},
   "outputs": [
    {
     "name": "stdout",
     "output_type": "stream",
     "text": [
      "UDI                         0.000000\n",
      "Air temperature [K]         0.118541\n",
      "Process temperature [K]     0.006529\n",
      "Rotational speed [rpm]      1.993171\n",
      "Torque [Nm]                -0.009517\n",
      "Tool wear [min]             0.021183\n",
      "Machine failure             5.151852\n",
      "TWF                        14.644462\n",
      "HDF                         9.164789\n",
      "PWF                        10.114516\n",
      "OSF                         9.953916\n",
      "RNF                        22.879570\n",
      "dtype: float64\n"
     ]
    },
    {
     "name": "stderr",
     "output_type": "stream",
     "text": [
      "C:\\Users\\srayn\\AppData\\Local\\Temp\\ipykernel_2788\\1926848427.py:1: FutureWarning:\n",
      "\n",
      "The default value of numeric_only in DataFrame.skew is deprecated. In a future version, it will default to False. In addition, specifying 'numeric_only=None' is deprecated. Select only valid columns or specify the value of numeric_only to silence this warning.\n",
      "\n"
     ]
    }
   ],
   "source": [
    "print(df.skew())"
   ]
  },
  {
   "cell_type": "markdown",
   "metadata": {},
   "source": [
    "As the three columns we are imputing are not significantly skewed (skew < 0.5), we will impute Tool wear and the 79 records missing both Air and Process temperatures using the mean."
   ]
  },
  {
   "cell_type": "code",
   "execution_count": 9,
   "metadata": {},
   "outputs": [
    {
     "name": "stderr",
     "output_type": "stream",
     "text": [
      "c:\\Users\\srayn\\EDA-manufacturing\\db_utils.py:100: SettingWithCopyWarning:\n",
      "\n",
      "\n",
      "A value is trying to be set on a copy of a slice from a DataFrame.\n",
      "Try using .loc[row_indexer,col_indexer] = value instead\n",
      "\n",
      "See the caveats in the documentation: https://pandas.pydata.org/pandas-docs/stable/user_guide/indexing.html#returning-a-view-versus-a-copy\n",
      "\n",
      "c:\\Users\\srayn\\EDA-manufacturing\\db_utils.py:102: SettingWithCopyWarning:\n",
      "\n",
      "\n",
      "A value is trying to be set on a copy of a slice from a DataFrame.\n",
      "Try using .loc[row_indexer,col_indexer] = value instead\n",
      "\n",
      "See the caveats in the documentation: https://pandas.pydata.org/pandas-docs/stable/user_guide/indexing.html#returning-a-view-versus-a-copy\n",
      "\n",
      "c:\\Users\\srayn\\EDA-manufacturing\\db_utils.py:106: SettingWithCopyWarning:\n",
      "\n",
      "\n",
      "A value is trying to be set on a copy of a slice from a DataFrame.\n",
      "Try using .loc[row_indexer,col_indexer] = value instead\n",
      "\n",
      "See the caveats in the documentation: https://pandas.pydata.org/pandas-docs/stable/user_guide/indexing.html#returning-a-view-versus-a-copy\n",
      "\n"
     ]
    }
   ],
   "source": [
    "df = du.DataTransform.impute_nulls(df)"
   ]
  },
  {
   "cell_type": "markdown",
   "metadata": {},
   "source": [
    "Now looking back at the skew of our variables, we need to transform 'Rotational speed \\[rpm\\]' to reduce its skew to an insignificant amount. We find that the log transform is insufficient for this, so we use a Box-Cox transform.\n",
    "\n",
    "It is not necessary to transform the boolean variables, as nothing useful can be gained from that."
   ]
  },
  {
   "cell_type": "code",
   "execution_count": 10,
   "metadata": {},
   "outputs": [
    {
     "name": "stdout",
     "output_type": "stream",
     "text": [
      "UDI                         0.000127\n",
      "Air temperature [K]         0.112156\n",
      "Process temperature [K]     0.017352\n",
      "Rotational speed [rpm]      0.000000\n",
      "Torque [Nm]                -0.009242\n",
      "Tool wear [min]             0.021232\n",
      "Machine failure             5.154597\n",
      "TWF                        14.585709\n",
      "HDF                         9.168607\n",
      "PWF                        10.128333\n",
      "OSF                         9.965855\n",
      "RNF                        23.416539\n",
      "dtype: float64\n"
     ]
    },
    {
     "name": "stderr",
     "output_type": "stream",
     "text": [
      "C:\\Users\\srayn\\AppData\\Local\\Temp\\ipykernel_12892\\3617743142.py:2: FutureWarning:\n",
      "\n",
      "The default value of numeric_only in DataFrame.skew is deprecated. In a future version, it will default to False. In addition, specifying 'numeric_only=None' is deprecated. Select only valid columns or specify the value of numeric_only to silence this warning.\n",
      "\n"
     ]
    }
   ],
   "source": [
    "df = dt.remove_skew(df)\n",
    "print(df.skew())"
   ]
  },
  {
   "cell_type": "markdown",
   "metadata": {},
   "source": [
    "Next, we check for outliers, which we visualise for each variable using a boxplot."
   ]
  },
  {
   "cell_type": "code",
   "execution_count": 11,
   "metadata": {},
   "outputs": [
    {
     "data": {
      "image/png": "[encoded data removed]",
      "text/plain": [
       "<Figure size 640x480 with 2 Axes>"
      ]
     },
     "metadata": {},
     "output_type": "display_data"
    }
   ],
   "source": [
    "fig, (ax1, ax2) = plt.subplots(ncols=2, nrows=1)\n",
    "ax1.boxplot(df['Rotational speed [rpm]'])\n",
    "ax1.set_title('Rotational speed [rpm]')\n",
    "ax2.boxplot(df['Torque [Nm]'])\n",
    "ax2.set_title('Torque [Nm]')\n",
    "plt.show()"
   ]
  },
  {
   "cell_type": "markdown",
   "metadata": {},
   "source": [
    "We find outliers in the 'Rotational speed \\[rpm\\]' and 'Torque \\[Nm\\]' columns. Outliers more than 3 standard deviations from the mean are dropped."
   ]
  },
  {
   "cell_type": "code",
   "execution_count": 12,
   "metadata": {},
   "outputs": [
    {
     "name": "stderr",
     "output_type": "stream",
     "text": [
      "c:\\Users\\srayn\\EDA-manufacturing\\db_utils.py:138: SettingWithCopyWarning:\n",
      "\n",
      "\n",
      "A value is trying to be set on a copy of a slice from a DataFrame\n",
      "\n",
      "See the caveats in the documentation: https://pandas.pydata.org/pandas-docs/stable/user_guide/indexing.html#returning-a-view-versus-a-copy\n",
      "\n",
      "c:\\Users\\srayn\\EDA-manufacturing\\db_utils.py:138: SettingWithCopyWarning:\n",
      "\n",
      "\n",
      "A value is trying to be set on a copy of a slice from a DataFrame\n",
      "\n",
      "See the caveats in the documentation: https://pandas.pydata.org/pandas-docs/stable/user_guide/indexing.html#returning-a-view-versus-a-copy\n",
      "\n"
     ]
    }
   ],
   "source": [
    "df = dt.drop_outliers(df, 'Rotational speed [rpm]')\n",
    "df = dt.drop_outliers(df, 'Torque [Nm]')"
   ]
  },
  {
   "cell_type": "markdown",
   "metadata": {},
   "source": [
    "We next consider collinearity. We will look at collinearity between our explanatory variables; 'Air temperature \\[K\\]', 'Process temperature \\[K\\]', 'Rotational speed \\[rpm\\]', 'Torque \\[Nm\\]' and 'Tool wear \\[min\\]'.\n",
    "\n",
    "To do this, we will use the statsmodels.formula.api module. First, we alter the column names to replace spaces and brackets with underscores. This is so that they can be used in the OLS (ordinary least squares) method. From the OLS method, we print the R^2 values which measure collinearity."
   ]
  },
  {
   "cell_type": "code",
   "execution_count": 13,
   "metadata": {},
   "outputs": [
    {
     "name": "stdout",
     "output_type": "stream",
     "text": [
      "0.7950725372867596 0.7950273582502619 0.8412879723527826 0.841261385204801 0.0003928879988955858\n"
     ]
    }
   ],
   "source": [
    "df.rename(columns={'Air temperature [K]': 'Air_temperature_K', 'Process temperature [K]': 'Process_temperature_K', 'Rotational speed [rpm]': 'Rotational_speed_rpm', 'Torque [Nm]': 'Torque_Nm', 'Tool wear [min]': 'Tool_wear_min'}, inplace=True)\n",
    "\n",
    "model0 = smf.ols('Air_temperature_K ~ Process_temperature_K + Rotational_speed_rpm + Torque_Nm + Tool_wear_min', df).fit()\n",
    "model1 = smf.ols('Process_temperature_K ~ Air_temperature_K + Rotational_speed_rpm + Torque_Nm + Tool_wear_min', df).fit()\n",
    "model2 = smf.ols('Rotational_speed_rpm ~ Air_temperature_K + Process_temperature_K + Torque_Nm + Tool_wear_min', df).fit()\n",
    "model3 = smf.ols('Torque_Nm ~ Air_temperature_K + Process_temperature_K + Rotational_speed_rpm + Tool_wear_min', df).fit()\n",
    "model4 = smf.ols('Tool_wear_min ~ Air_temperature_K + Process_temperature_K + Rotational_speed_rpm + Torque_Nm', df).fit()\n",
    "\n",
    "print(model0.rsquared, model1.rsquared, model2.rsquared, model3.rsquared, model4.rsquared)"
   ]
  },
  {
   "cell_type": "markdown",
   "metadata": {},
   "source": [
    "We will drop columns that appear to show too much collinearity with another column. We will use the 'Variation Inflation Factor' (VIF) as a metric, and the condition that VIF > 5 implies that columns should be dropped.\n",
    "\n",
    "VIF can be calculated from the R^2 values by the equation:\n",
    "\n",
    "```\n",
    "VIF = 1/(1-R^2)\n",
    "```\n",
    "\n",
    "R^2 = 0.84 gives VIF = 6.25. The other R^2 values do not meet the VIF > 5 threshold.\n",
    "This means 'Rotational speed \\[rpm\\]' and 'Torque \\[Nm\\]' are strongly collinear with other variables. It would make sense that these two variables are related as they are both mechanical quantities that have mathematical relationships linking them together.\n",
    "\n",
    "We remove Rotational speed (therefore removing 'model2') from the OLS functions and recalculate the R^2 values."
   ]
  },
  {
   "cell_type": "code",
   "execution_count": 14,
   "metadata": {},
   "outputs": [
    {
     "name": "stdout",
     "output_type": "stream",
     "text": [
      "0.7950725372867596 0.7950256797425933 0.00023494200643958685 0.00038604395116326184\n"
     ]
    }
   ],
   "source": [
    "model0 = smf.ols('Air_temperature_K ~ Process_temperature_K + Rotational_speed_rpm + Torque_Nm + Tool_wear_min', df).fit()\n",
    "model1 = smf.ols('Process_temperature_K ~ Air_temperature_K + Torque_Nm + Tool_wear_min', df).fit()\n",
    "\n",
    "model3 = smf.ols('Torque_Nm ~ Air_temperature_K + Process_temperature_K + Tool_wear_min', df).fit()\n",
    "model4 = smf.ols('Tool_wear_min ~ Air_temperature_K + Process_temperature_K + Torque_Nm', df).fit()\n",
    "\n",
    "print(model0.rsquared, model1.rsquared, model3.rsquared, model4.rsquared)"
   ]
  },
  {
   "cell_type": "markdown",
   "metadata": {},
   "source": [
    "This reduces the R^2 value for Torque drastically, so now we don't have any collinearity issues with our columns. We will drop the 'Rotational speed \\[rpm\\]' from the dataframe."
   ]
  },
  {
   "cell_type": "code",
   "execution_count": 15,
   "metadata": {},
   "outputs": [],
   "source": [
    "df.rename(columns={\"Air_temperature_K\": \"Air temperature [K]\", \"Process_temperature_K\": \"Process temperature [K]\", 'Rotational_speed_rpm': 'Rotational speed [rpm]', 'Torque_Nm': 'Torque [Nm]', 'Tool_wear_min': 'Tool wear [min]'}, inplace=True)\n",
    "\n",
    "df = dt.remove_collinearity(df)"
   ]
  },
  {
   "cell_type": "markdown",
   "metadata": {},
   "source": [
    "We have now finished cleaning and transforming the data ready for analysis.\n",
    "\n",
    "## Analysing the data\n",
    "\n",
    "We will begin our analysis by calculating the current operating ranges of the machine. "
   ]
  },
  {
   "cell_type": "code",
   "execution_count": 16,
   "metadata": {},
   "outputs": [
    {
     "data": {
      "text/html": [
       "<div>\n",
       "<style scoped>\n",
       "    .dataframe tbody tr th:only-of-type {\n",
       "        vertical-align: middle;\n",
       "    }\n",
       "\n",
       "    .dataframe tbody tr th {\n",
       "        vertical-align: top;\n",
       "    }\n",
       "\n",
       "    .dataframe thead tr th {\n",
       "        text-align: left;\n",
       "    }\n",
       "</style>\n",
       "<table border=\"1\" class=\"dataframe\">\n",
       "  <thead>\n",
       "    <tr>\n",
       "      <th></th>\n",
       "      <th colspan=\"2\" halign=\"left\">Air_temp</th>\n",
       "      <th colspan=\"2\" halign=\"left\">Process_temp</th>\n",
       "      <th colspan=\"2\" halign=\"left\">Torque</th>\n",
       "      <th colspan=\"2\" halign=\"left\">Tool_wear</th>\n",
       "    </tr>\n",
       "    <tr>\n",
       "      <th></th>\n",
       "      <th>Max</th>\n",
       "      <th>Min</th>\n",
       "      <th>Max</th>\n",
       "      <th>Min</th>\n",
       "      <th>Max</th>\n",
       "      <th>Min</th>\n",
       "      <th>Max</th>\n",
       "      <th>Min</th>\n",
       "    </tr>\n",
       "  </thead>\n",
       "  <tbody>\n",
       "    <tr>\n",
       "      <th>All</th>\n",
       "      <td>304.5</td>\n",
       "      <td>295.2</td>\n",
       "      <td>313.8</td>\n",
       "      <td>305.7</td>\n",
       "      <td>69.6</td>\n",
       "      <td>10.7</td>\n",
       "      <td>253.0</td>\n",
       "      <td>0.0</td>\n",
       "    </tr>\n",
       "    <tr>\n",
       "      <th>High</th>\n",
       "      <td>304.2</td>\n",
       "      <td>295.5</td>\n",
       "      <td>313.5</td>\n",
       "      <td>305.9</td>\n",
       "      <td>68.6</td>\n",
       "      <td>12.8</td>\n",
       "      <td>246.0</td>\n",
       "      <td>0.0</td>\n",
       "    </tr>\n",
       "    <tr>\n",
       "      <th>Medium</th>\n",
       "      <td>304.4</td>\n",
       "      <td>295.2</td>\n",
       "      <td>313.8</td>\n",
       "      <td>305.7</td>\n",
       "      <td>69.0</td>\n",
       "      <td>10.7</td>\n",
       "      <td>253.0</td>\n",
       "      <td>0.0</td>\n",
       "    </tr>\n",
       "    <tr>\n",
       "      <th>Low</th>\n",
       "      <td>304.5</td>\n",
       "      <td>295.3</td>\n",
       "      <td>313.8</td>\n",
       "      <td>305.7</td>\n",
       "      <td>69.6</td>\n",
       "      <td>11.8</td>\n",
       "      <td>251.0</td>\n",
       "      <td>0.0</td>\n",
       "    </tr>\n",
       "  </tbody>\n",
       "</table>\n",
       "</div>"
      ],
      "text/plain": [
       "       Air_temp        Process_temp        Torque       Tool_wear     \n",
       "            Max    Min          Max    Min    Max   Min       Max  Min\n",
       "All       304.5  295.2        313.8  305.7   69.6  10.7     253.0  0.0\n",
       "High      304.2  295.5        313.5  305.9   68.6  12.8     246.0  0.0\n",
       "Medium    304.4  295.2        313.8  305.7   69.0  10.7     253.0  0.0\n",
       "Low       304.5  295.3        313.8  305.7   69.6  11.8     251.0  0.0"
      ]
     },
     "execution_count": 16,
     "metadata": {},
     "output_type": "execute_result"
    }
   ],
   "source": [
    "du.DataAnalysis.ranges_table(df)"
   ]
  },
  {
   "cell_type": "markdown",
   "metadata": {},
   "source": [
    "This table shows the minimum and maximum values of the explanatory variables that the machine has been operating at.\n",
    "\n",
    "We next investigate the machine failures. We calculate the number and percentage of failures, as well as visualise the numbers of failures for each product type, and the number of each type of failure."
   ]
  },
  {
   "cell_type": "code",
   "execution_count": 17,
   "metadata": {},
   "outputs": [
    {
     "name": "stdout",
     "output_type": "stream",
     "text": [
      "Number of failures = 306 \n",
      "Percentage of failures = 3.09967585089141\n"
     ]
    },
    {
     "name": "stderr",
     "output_type": "stream",
     "text": [
      "c:\\Users\\srayn\\EDA-manufacturing\\db_utils.py:271: UserWarning:\n",
      "\n",
      "Boolean Series key will be reindexed to match DataFrame index.\n",
      "\n",
      "c:\\Users\\srayn\\EDA-manufacturing\\db_utils.py:272: UserWarning:\n",
      "\n",
      "Boolean Series key will be reindexed to match DataFrame index.\n",
      "\n",
      "c:\\Users\\srayn\\EDA-manufacturing\\db_utils.py:273: UserWarning:\n",
      "\n",
      "Boolean Series key will be reindexed to match DataFrame index.\n",
      "\n"
     ]
    },
    {
     "data": {
      "image/png": "[encoded data removed]",
      "text/plain": [
       "<Figure size 1500x800 with 4 Axes>"
      ]
     },
     "metadata": {},
     "output_type": "display_data"
    }
   ],
   "source": [
    "du.DataAnalysis.failure_plots(df)"
   ]
  },
  {
   "cell_type": "markdown",
   "metadata": {},
   "source": [
    "The top-right graph here shows that the lower the quality of the product, the larger the chance of machine failure. In the bottom-left graph we can see the relative frequencies of the different types of machine failure. Overheating the machine and over-straining its parts are most often the cause.\n",
    "\n",
    "The bottom-right graph shows that for all types of failure, low quality products cause the most. Tihs is most extreme in the case of OSF, which is caused by low quality products 91% of the time. So although OSF is the second most frequent cause of failure, it is disproportionately caused by low quality products.\n",
    "\n",
    "We next examine any correlations between our explanatory variables (Air and Process temperatures, Torque, Tool wear) and the types of failures.\n",
    "\n",
    "To do this, we plot histograms of the relative frequencies of failure types superimposed with the relative frequencies of explanatory variables. We only show the histograms that we can draw conclusions from."
   ]
  },
  {
   "cell_type": "code",
   "execution_count": 18,
   "metadata": {},
   "outputs": [
    {
     "data": {
      "image/png": "[encoded data removed]",
      "text/plain": [
       "<Figure size 640x480 with 1 Axes>"
      ]
     },
     "metadata": {},
     "output_type": "display_data"
    },
    {
     "data": {
      "image/png": "[encoded data removed]",
      "text/plain": [
       "<Figure size 640x480 with 1 Axes>"
      ]
     },
     "metadata": {},
     "output_type": "display_data"
    },
    {
     "data": {
      "image/png": "[encoded data removed]",
      "text/plain": [
       "<Figure size 640x480 with 1 Axes>"
      ]
     },
     "metadata": {},
     "output_type": "display_data"
    }
   ],
   "source": [
    "du.DataAnalysis.failure_over_column_range(df, 'HDF', 'Air temperature [K]')\n",
    "du.DataAnalysis.failure_over_column_range(df, 'HDF', 'Process temperature [K]')\n",
    "du.DataAnalysis.failure_over_column_range(df, 'HDF', 'Torque [Nm]')\n"
   ]
  },
  {
   "cell_type": "markdown",
   "metadata": {},
   "source": [
    "From the first two graphs we can see that HDF happens for Air temperatures between 300 K and 304 K and Process temperatures between 309.5 K and 312.5 K. It would be best to keep Air temperature less than 300 K and the Process temperature less than 309.5 K. From the third graph we can see that Torque needs to be less than 42 Nm."
   ]
  },
  {
   "cell_type": "code",
   "execution_count": 19,
   "metadata": {},
   "outputs": [
    {
     "data": {
      "image/png": "[encoded data removed]",
      "text/plain": [
       "<Figure size 640x480 with 1 Axes>"
      ]
     },
     "metadata": {},
     "output_type": "display_data"
    },
    {
     "data": {
      "image/png": "[encoded data removed]",
      "text/plain": [
       "<Figure size 640x480 with 1 Axes>"
      ]
     },
     "metadata": {},
     "output_type": "display_data"
    }
   ],
   "source": [
    "du.DataAnalysis.failure_over_column_range(df, 'PWF', 'Torque [Nm]')\n",
    "du.DataAnalysis.failure_over_column_range(df, 'OSF', 'Torque [Nm]')"
   ]
  },
  {
   "cell_type": "markdown",
   "metadata": {},
   "source": [
    "From the first graph, we can see that PWF happens at the extreme values of Torque. Torque must be between 10 Nm and 58 Nm to avoid PWF. To avoid OSF, Torque must be less than 46 Nm.\n",
    "\n",
    "Altogether, Torque needs to be between 10 Nm and 42 Nm to avoid HDF, PWF and OSF."
   ]
  },
  {
   "cell_type": "code",
   "execution_count": 20,
   "metadata": {},
   "outputs": [
    {
     "data": {
      "image/png": "[encoded data removed]",
      "text/plain": [
       "<Figure size 640x480 with 1 Axes>"
      ]
     },
     "metadata": {},
     "output_type": "display_data"
    },
    {
     "data": {
      "image/png": "[encoded data removed]",
      "text/plain": [
       "<Figure size 640x480 with 1 Axes>"
      ]
     },
     "metadata": {},
     "output_type": "display_data"
    }
   ],
   "source": [
    "du.DataAnalysis.failure_over_column_range(df, 'TWF', 'Tool wear [min]')\n",
    "du.DataAnalysis.failure_over_column_range(df, 'OSF', 'Tool wear [min]')"
   ]
  },
  {
   "cell_type": "markdown",
   "metadata": {},
   "source": [
    "Tool wear must be kept below 175 min to prevent both TWF and OSF. The outlier values of TWF and OSF around 110 min are due to imputation of missing values of 'Tool wear [min]' with the mean value, so these points are unreliable to draw conclusions from.\n",
    "\n",
    "Altogether, we have the following conclusions: \n",
    "- Torque must be kept between 10 Nm and 42 Nm to prevent HDF, PWF and OSF\n",
    "- Tool wear must be below 175 min to prevent TWF and OSF.\n",
    "- Air temperature should be kept below 300 K to prevent HDF.\n",
    "- Process temperature should be kept below 309.5 K to prevent HDF."
   ]
  }
 ],
 "metadata": {
  "kernelspec": {
   "display_name": "base",
   "language": "python",
   "name": "python3"
  },
  "language_info": {
   "codemirror_mode": {
    "name": "ipython",
    "version": 3
   },
   "file_extension": ".py",
   "mimetype": "text/x-python",
   "name": "python",
   "nbconvert_exporter": "python",
   "pygments_lexer": "ipython3",
   "version": "3.8.17"
  }
 },
 "nbformat": 4,
 "nbformat_minor": 2
}
