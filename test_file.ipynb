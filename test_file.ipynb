{
 "cells": [
  {
   "cell_type": "code",
   "execution_count": 2,
   "metadata": {},
   "outputs": [
    {
     "name": "stderr",
     "output_type": "stream",
     "text": [
      "c:\\Users\\srayn\\EDA-manufacturing\\db_utils.py:100: SettingWithCopyWarning: \n",
      "A value is trying to be set on a copy of a slice from a DataFrame.\n",
      "Try using .loc[row_indexer,col_indexer] = value instead\n",
      "\n",
      "See the caveats in the documentation: https://pandas.pydata.org/pandas-docs/stable/user_guide/indexing.html#returning-a-view-versus-a-copy\n",
      "  process_temp_nulls['Process temperature [K]'] = np.round(process_temp_gradient * process_temp_nulls['Air temperature [K]'] + process_temp_intercept, 1)\n",
      "c:\\Users\\srayn\\EDA-manufacturing\\db_utils.py:102: SettingWithCopyWarning: \n",
      "A value is trying to be set on a copy of a slice from a DataFrame.\n",
      "Try using .loc[row_indexer,col_indexer] = value instead\n",
      "\n",
      "See the caveats in the documentation: https://pandas.pydata.org/pandas-docs/stable/user_guide/indexing.html#returning-a-view-versus-a-copy\n",
      "  air_temp_nulls['Air temperature [K]'] = np.round(air_temp_gradient * air_temp_nulls['Process temperature [K]'] + air_temp_intercept, 1)\n",
      "c:\\Users\\srayn\\EDA-manufacturing\\db_utils.py:106: SettingWithCopyWarning: \n",
      "A value is trying to be set on a copy of a slice from a DataFrame.\n",
      "Try using .loc[row_indexer,col_indexer] = value instead\n",
      "\n",
      "See the caveats in the documentation: https://pandas.pydata.org/pandas-docs/stable/user_guide/indexing.html#returning-a-view-versus-a-copy\n",
      "  df['Tool wear [min]'] = df['Tool wear [min]'].fillna(df['Tool wear [min]'].mean())\n",
      "c:\\Users\\srayn\\EDA-manufacturing\\db_utils.py:116: SettingWithCopyWarning: \n",
      "A value is trying to be set on a copy of a slice from a DataFrame.\n",
      "Try using .loc[row_indexer,col_indexer] = value instead\n",
      "\n",
      "See the caveats in the documentation: https://pandas.pydata.org/pandas-docs/stable/user_guide/indexing.html#returning-a-view-versus-a-copy\n",
      "  df['Rotational speed [rpm]'] = boxcox(df['Rotational speed [rpm]'])[0]\n",
      "c:\\Users\\srayn\\EDA-manufacturing\\db_utils.py:135: SettingWithCopyWarning: \n",
      "A value is trying to be set on a copy of a slice from a DataFrame.\n",
      "Try using .loc[row_indexer,col_indexer] = value instead\n",
      "\n",
      "See the caveats in the documentation: https://pandas.pydata.org/pandas-docs/stable/user_guide/indexing.html#returning-a-view-versus-a-copy\n",
      "  df['z-score'] = (df[column] - df[column].mean())/df[column].std()\n",
      "c:\\Users\\srayn\\EDA-manufacturing\\db_utils.py:138: SettingWithCopyWarning: \n",
      "A value is trying to be set on a copy of a slice from a DataFrame\n",
      "\n",
      "See the caveats in the documentation: https://pandas.pydata.org/pandas-docs/stable/user_guide/indexing.html#returning-a-view-versus-a-copy\n",
      "  df.drop('z-score', axis=1, inplace=True)\n",
      "c:\\Users\\srayn\\EDA-manufacturing\\db_utils.py:135: SettingWithCopyWarning: \n",
      "A value is trying to be set on a copy of a slice from a DataFrame.\n",
      "Try using .loc[row_indexer,col_indexer] = value instead\n",
      "\n",
      "See the caveats in the documentation: https://pandas.pydata.org/pandas-docs/stable/user_guide/indexing.html#returning-a-view-versus-a-copy\n",
      "  df['z-score'] = (df[column] - df[column].mean())/df[column].std()\n",
      "c:\\Users\\srayn\\EDA-manufacturing\\db_utils.py:138: SettingWithCopyWarning: \n",
      "A value is trying to be set on a copy of a slice from a DataFrame\n",
      "\n",
      "See the caveats in the documentation: https://pandas.pydata.org/pandas-docs/stable/user_guide/indexing.html#returning-a-view-versus-a-copy\n",
      "  df.drop('z-score', axis=1, inplace=True)\n",
      "c:\\Users\\srayn\\EDA-manufacturing\\db_utils.py:148: SettingWithCopyWarning: \n",
      "A value is trying to be set on a copy of a slice from a DataFrame\n",
      "\n",
      "See the caveats in the documentation: https://pandas.pydata.org/pandas-docs/stable/user_guide/indexing.html#returning-a-view-versus-a-copy\n",
      "  df.drop('Rotational speed [rpm]', axis=1, inplace=True) # VIF = 6.25\n"
     ]
    },
    {
     "data": {
      "image/png": "[encoded data removed]",
      "text/plain": [
       "<Figure size 640x480 with 1 Axes>"
      ]
     },
     "metadata": {},
     "output_type": "display_data"
    },
    {
     "name": "stdout",
     "output_type": "stream",
     "text": [
      "None\n"
     ]
    }
   ],
   "source": [
    "import pandas as pd\n",
    "import numpy as np\n",
    "import matplotlib.pyplot as plt\n",
    "from scipy.stats import boxcox, yeojohnson\n",
    "import statsmodels.regression.linear_model as srl\n",
    "import statsmodels.formula.api as smf\n",
    "\n",
    "import db_utils as du"
   ]
  },
  {
   "cell_type": "code",
   "execution_count": 3,
   "metadata": {},
   "outputs": [],
   "source": [
    "dc = du.RDSDatabaseConnector('credentials.yaml')\n",
    "df = dc.read_rds_table(table='failure_data')\n",
    "dc.save_data('failure_data', 'failure_data.csv')\n",
    "df = du.RDSDatabaseConnector.load_data('failure_data.csv')"
   ]
  },
  {
   "cell_type": "code",
   "execution_count": 4,
   "metadata": {},
   "outputs": [
    {
     "name": "stderr",
     "output_type": "stream",
     "text": [
      "C:\\Users\\srayn\\AppData\\Local\\Temp\\ipykernel_15860\\390849661.py:2: FutureWarning: The default value of numeric_only in DataFrame.corr is deprecated. In a future version, it will default to False. Select only valid columns or specify the value of numeric_only to silence this warning.\n",
      "  px.imshow(df.corr(), title=\"Correlation heatmap of dataframe\")\n"
     ]
    },
    {
     "data": {
      "application/vnd.plotly.v1+json": {
       "config": {
        "plotlyServerURL": "https://plot.ly"
       },
       "data": [
        {
         "coloraxis": "coloraxis",
         "hovertemplate": "x: %{x}<br>y: %{y}<br>color: %{z}<extra></extra>",
         "name": "0",
         "type": "heatmap",
         "x": [
          "UDI",
          "Air temperature [K]",
          "Process temperature [K]",
          "Rotational speed [rpm]",
          "Torque [Nm]",
          "Tool wear [min]",
          "Machine failure",
          "TWF",
          "HDF",
          "PWF",
          "OSF",
          "RNF"
         ],
         "xaxis": "x",
         "y": [
          "UDI",
          "Air temperature [K]",
          "Process temperature [K]",
          "Rotational speed [rpm]",
          "Torque [Nm]",
          "Tool wear [min]",
          "Machine failure",
          "TWF",
          "HDF",
          "PWF",
          "OSF",
          "RNF"
         ],
         "yaxis": "y",
         "z": [
          [
           1,
           0.11238625071180222,
           0.32612106078845615,
           -0.006614868271094674,
           0.0032065864720418075,
           -0.013121751634223435,
           -0.022891805548006783,
           0.009154380960882192,
           -0.022214737201857977,
           -0.0235565593194333,
           -0.0009902589512686812,
           -0.0059537362242041494
          ],
          [
           0.11238625071180222,
           1,
           0.8747845663953107,
           0.024038008057235175,
           -0.01573817402226949,
           0.01517304552696242,
           0.08117555179580667,
           0.009530915913718805,
           0.13773146223513316,
           0.00452890178510231,
           -0.00043276640668492506,
           0.022905263794346462
          ],
          [
           0.32612106078845615,
           0.8747845663953107,
           1,
           0.014504477862235238,
           -0.010804714728661773,
           0.007686951324659176,
           0.03778304803487911,
           0.010233907059866551,
           0.05721519778023867,
           -0.004305684655102668,
           0.004987699514961295,
           0.021019391690565766
          ],
          [
           -0.006614868271094674,
           0.024038008057235175,
           0.014504477862235238,
           1,
           -0.875027086299608,
           -0.002750756283615103,
           -0.04418755973437499,
           0.010389052615371283,
           -0.12124069274241624,
           0.12301783801418674,
           -0.10457471184668739,
           -0.013087570245775233
          ],
          [
           0.0032065864720418075,
           -0.01573817402226949,
           -0.010804714728661773,
           -0.875027086299608,
           1,
           0.00099489095000637,
           0.1913207750594933,
           -0.014661627020794129,
           0.14261018182526541,
           0.08378107782507366,
           0.18346479499435547,
           0.016136499193894194
          ],
          [
           -0.013121751634223435,
           0.01517304552696242,
           0.007686951324659176,
           -0.002750756283615103,
           0.00099489095000637,
           1,
           0.10401628995717926,
           0.11546068253704417,
           -0.0021505893139931345,
           -0.009766292267010495,
           0.15647427941702824,
           0.011429525792458518
          ],
          [
           -0.022891805548006783,
           0.08117555179580667,
           0.03778304803487911,
           -0.04418755973437499,
           0.1913207750594933,
           0.10401628995717926,
           1,
           0.36290361100612684,
           0.5758001521562357,
           0.5228122496269675,
           0.5310834511801936,
           0.00451599309878694
          ],
          [
           0.009154380960882192,
           0.009530915913718805,
           0.010233907059866551,
           0.010389052615371283,
           -0.014661627020794129,
           0.11546068253704417,
           0.36290361100612684,
           1,
           -0.007332307685911678,
           0.008577122607266131,
           0.03824297564601238,
           0.030969835754263323
          ],
          [
           -0.022214737201857977,
           0.13773146223513316,
           0.05721519778023867,
           -0.12124069274241624,
           0.14261018182526541,
           -0.0021505893139931345,
           0.5758001521562357,
           -0.007332307685911678,
           1,
           0.01844328371239208,
           0.0463964396932686,
           -0.0047059830221763636
          ],
          [
           -0.0235565593194333,
           0.00452890178510231,
           -0.004305684655102668,
           0.12301783801418674,
           0.08378107782507366,
           -0.009766292267010495,
           0.5228122496269675,
           0.008577122607266131,
           0.01844328371239208,
           1,
           0.1158363450811437,
           -0.004272915804757792
          ],
          [
           -0.0009902589512686812,
           -0.00043276640668492506,
           0.004987699514961295,
           -0.10457471184668739,
           0.18346479499435547,
           0.15647427941702824,
           0.5310834511801936,
           0.03824297564601238,
           0.0463964396932686,
           0.1158363450811437,
           1,
           -0.004340515880820153
          ],
          [
           -0.0059537362242041494,
           0.022905263794346462,
           0.021019391690565766,
           -0.013087570245775233,
           0.016136499193894194,
           0.011429525792458518,
           0.00451599309878694,
           0.030969835754263323,
           -0.0047059830221763636,
           -0.004272915804757792,
           -0.004340515880820153,
           1
          ]
         ]
        }
       ],
       "layout": {
        "coloraxis": {
         "colorscale": [
          [
           0,
           "#0d0887"
          ],
          [
           0.1111111111111111,
           "#46039f"
          ],
          [
           0.2222222222222222,
           "#7201a8"
          ],
          [
           0.3333333333333333,
           "#9c179e"
          ],
          [
           0.4444444444444444,
           "#bd3786"
          ],
          [
           0.5555555555555556,
           "#d8576b"
          ],
          [
           0.6666666666666666,
           "#ed7953"
          ],
          [
           0.7777777777777778,
           "#fb9f3a"
          ],
          [
           0.8888888888888888,
           "#fdca26"
          ],
          [
           1,
           "#f0f921"
          ]
         ]
        },
        "template": {
         "data": {
          "bar": [
           {
            "error_x": {
             "color": "#2a3f5f"
            },
            "error_y": {
             "color": "#2a3f5f"
            },
            "marker": {
             "line": {
              "color": "#E5ECF6",
              "width": 0.5
             },
             "pattern": {
              "fillmode": "overlay",
              "size": 10,
              "solidity": 0.2
             }
            },
            "type": "bar"
           }
          ],
          "barpolar": [
           {
            "marker": {
             "line": {
              "color": "#E5ECF6",
              "width": 0.5
             },
             "pattern": {
              "fillmode": "overlay",
              "size": 10,
              "solidity": 0.2
             }
            },
            "type": "barpolar"
           }
          ],
          "carpet": [
           {
            "aaxis": {
             "endlinecolor": "#2a3f5f",
             "gridcolor": "white",
             "linecolor": "white",
             "minorgridcolor": "white",
             "startlinecolor": "#2a3f5f"
            },
            "baxis": {
             "endlinecolor": "#2a3f5f",
             "gridcolor": "white",
             "linecolor": "white",
             "minorgridcolor": "white",
             "startlinecolor": "#2a3f5f"
            },
            "type": "carpet"
           }
          ],
          "choropleth": [
           {
            "colorbar": {
             "outlinewidth": 0,
             "ticks": ""
            },
            "type": "choropleth"
           }
          ],
          "contour": [
           {
            "colorbar": {
             "outlinewidth": 0,
             "ticks": ""
            },
            "colorscale": [
             [
              0,
              "#0d0887"
             ],
             [
              0.1111111111111111,
              "#46039f"
             ],
             [
              0.2222222222222222,
              "#7201a8"
             ],
             [
              0.3333333333333333,
              "#9c179e"
             ],
             [
              0.4444444444444444,
              "#bd3786"
             ],
             [
              0.5555555555555556,
              "#d8576b"
             ],
             [
              0.6666666666666666,
              "#ed7953"
             ],
             [
              0.7777777777777778,
              "#fb9f3a"
             ],
             [
              0.8888888888888888,
              "#fdca26"
             ],
             [
              1,
              "#f0f921"
             ]
            ],
            "type": "contour"
           }
          ],
          "contourcarpet": [
           {
            "colorbar": {
             "outlinewidth": 0,
             "ticks": ""
            },
            "type": "contourcarpet"
           }
          ],
          "heatmap": [
           {
            "colorbar": {
             "outlinewidth": 0,
             "ticks": ""
            },
            "colorscale": [
             [
              0,
              "#0d0887"
             ],
             [
              0.1111111111111111,
              "#46039f"
             ],
             [
              0.2222222222222222,
              "#7201a8"
             ],
             [
              0.3333333333333333,
              "#9c179e"
             ],
             [
              0.4444444444444444,
              "#bd3786"
             ],
             [
              0.5555555555555556,
              "#d8576b"
             ],
             [
              0.6666666666666666,
              "#ed7953"
             ],
             [
              0.7777777777777778,
              "#fb9f3a"
             ],
             [
              0.8888888888888888,
              "#fdca26"
             ],
             [
              1,
              "#f0f921"
             ]
            ],
            "type": "heatmap"
           }
          ],
          "heatmapgl": [
           {
            "colorbar": {
             "outlinewidth": 0,
             "ticks": ""
            },
            "colorscale": [
             [
              0,
              "#0d0887"
             ],
             [
              0.1111111111111111,
              "#46039f"
             ],
             [
              0.2222222222222222,
              "#7201a8"
             ],
             [
              0.3333333333333333,
              "#9c179e"
             ],
             [
              0.4444444444444444,
              "#bd3786"
             ],
             [
              0.5555555555555556,
              "#d8576b"
             ],
             [
              0.6666666666666666,
              "#ed7953"
             ],
             [
              0.7777777777777778,
              "#fb9f3a"
             ],
             [
              0.8888888888888888,
              "#fdca26"
             ],
             [
              1,
              "#f0f921"
             ]
            ],
            "type": "heatmapgl"
           }
          ],
          "histogram": [
           {
            "marker": {
             "pattern": {
              "fillmode": "overlay",
              "size": 10,
              "solidity": 0.2
             }
            },
            "type": "histogram"
           }
          ],
          "histogram2d": [
           {
            "colorbar": {
             "outlinewidth": 0,
             "ticks": ""
            },
            "colorscale": [
             [
              0,
              "#0d0887"
             ],
             [
              0.1111111111111111,
              "#46039f"
             ],
             [
              0.2222222222222222,
              "#7201a8"
             ],
             [
              0.3333333333333333,
              "#9c179e"
             ],
             [
              0.4444444444444444,
              "#bd3786"
             ],
             [
              0.5555555555555556,
              "#d8576b"
             ],
             [
              0.6666666666666666,
              "#ed7953"
             ],
             [
              0.7777777777777778,
              "#fb9f3a"
             ],
             [
              0.8888888888888888,
              "#fdca26"
             ],
             [
              1,
              "#f0f921"
             ]
            ],
            "type": "histogram2d"
           }
          ],
          "histogram2dcontour": [
           {
            "colorbar": {
             "outlinewidth": 0,
             "ticks": ""
            },
            "colorscale": [
             [
              0,
              "#0d0887"
             ],
             [
              0.1111111111111111,
              "#46039f"
             ],
             [
              0.2222222222222222,
              "#7201a8"
             ],
             [
              0.3333333333333333,
              "#9c179e"
             ],
             [
              0.4444444444444444,
              "#bd3786"
             ],
             [
              0.5555555555555556,
              "#d8576b"
             ],
             [
              0.6666666666666666,
              "#ed7953"
             ],
             [
              0.7777777777777778,
              "#fb9f3a"
             ],
             [
              0.8888888888888888,
              "#fdca26"
             ],
             [
              1,
              "#f0f921"
             ]
            ],
            "type": "histogram2dcontour"
           }
          ],
          "mesh3d": [
           {
            "colorbar": {
             "outlinewidth": 0,
             "ticks": ""
            },
            "type": "mesh3d"
           }
          ],
          "parcoords": [
           {
            "line": {
             "colorbar": {
              "outlinewidth": 0,
              "ticks": ""
             }
            },
            "type": "parcoords"
           }
          ],
          "pie": [
           {
            "automargin": true,
            "type": "pie"
           }
          ],
          "scatter": [
           {
            "fillpattern": {
             "fillmode": "overlay",
             "size": 10,
             "solidity": 0.2
            },
            "type": "scatter"
           }
          ],
          "scatter3d": [
           {
            "line": {
             "colorbar": {
              "outlinewidth": 0,
              "ticks": ""
             }
            },
            "marker": {
             "colorbar": {
              "outlinewidth": 0,
              "ticks": ""
             }
            },
            "type": "scatter3d"
           }
          ],
          "scattercarpet": [
           {
            "marker": {
             "colorbar": {
              "outlinewidth": 0,
              "ticks": ""
             }
            },
            "type": "scattercarpet"
           }
          ],
          "scattergeo": [
           {
            "marker": {
             "colorbar": {
              "outlinewidth": 0,
              "ticks": ""
             }
            },
            "type": "scattergeo"
           }
          ],
          "scattergl": [
           {
            "marker": {
             "colorbar": {
              "outlinewidth": 0,
              "ticks": ""
             }
            },
            "type": "scattergl"
           }
          ],
          "scattermapbox": [
           {
            "marker": {
             "colorbar": {
              "outlinewidth": 0,
              "ticks": ""
             }
            },
            "type": "scattermapbox"
           }
          ],
          "scatterpolar": [
           {
            "marker": {
             "colorbar": {
              "outlinewidth": 0,
              "ticks": ""
             }
            },
            "type": "scatterpolar"
           }
          ],
          "scatterpolargl": [
           {
            "marker": {
             "colorbar": {
              "outlinewidth": 0,
              "ticks": ""
             }
            },
            "type": "scatterpolargl"
           }
          ],
          "scatterternary": [
           {
            "marker": {
             "colorbar": {
              "outlinewidth": 0,
              "ticks": ""
             }
            },
            "type": "scatterternary"
           }
          ],
          "surface": [
           {
            "colorbar": {
             "outlinewidth": 0,
             "ticks": ""
            },
            "colorscale": [
             [
              0,
              "#0d0887"
             ],
             [
              0.1111111111111111,
              "#46039f"
             ],
             [
              0.2222222222222222,
              "#7201a8"
             ],
             [
              0.3333333333333333,
              "#9c179e"
             ],
             [
              0.4444444444444444,
              "#bd3786"
             ],
             [
              0.5555555555555556,
              "#d8576b"
             ],
             [
              0.6666666666666666,
              "#ed7953"
             ],
             [
              0.7777777777777778,
              "#fb9f3a"
             ],
             [
              0.8888888888888888,
              "#fdca26"
             ],
             [
              1,
              "#f0f921"
             ]
            ],
            "type": "surface"
           }
          ],
          "table": [
           {
            "cells": {
             "fill": {
              "color": "#EBF0F8"
             },
             "line": {
              "color": "white"
             }
            },
            "header": {
             "fill": {
              "color": "#C8D4E3"
             },
             "line": {
              "color": "white"
             }
            },
            "type": "table"
           }
          ]
         },
         "layout": {
          "annotationdefaults": {
           "arrowcolor": "#2a3f5f",
           "arrowhead": 0,
           "arrowwidth": 1
          },
          "autotypenumbers": "strict",
          "coloraxis": {
           "colorbar": {
            "outlinewidth": 0,
            "ticks": ""
           }
          },
          "colorscale": {
           "diverging": [
            [
             0,
             "#8e0152"
            ],
            [
             0.1,
             "#c51b7d"
            ],
            [
             0.2,
             "#de77ae"
            ],
            [
             0.3,
             "#f1b6da"
            ],
            [
             0.4,
             "#fde0ef"
            ],
            [
             0.5,
             "#f7f7f7"
            ],
            [
             0.6,
             "#e6f5d0"
            ],
            [
             0.7,
             "#b8e186"
            ],
            [
             0.8,
             "#7fbc41"
            ],
            [
             0.9,
             "#4d9221"
            ],
            [
             1,
             "#276419"
            ]
           ],
           "sequential": [
            [
             0,
             "#0d0887"
            ],
            [
             0.1111111111111111,
             "#46039f"
            ],
            [
             0.2222222222222222,
             "#7201a8"
            ],
            [
             0.3333333333333333,
             "#9c179e"
            ],
            [
             0.4444444444444444,
             "#bd3786"
            ],
            [
             0.5555555555555556,
             "#d8576b"
            ],
            [
             0.6666666666666666,
             "#ed7953"
            ],
            [
             0.7777777777777778,
             "#fb9f3a"
            ],
            [
             0.8888888888888888,
             "#fdca26"
            ],
            [
             1,
             "#f0f921"
            ]
           ],
           "sequentialminus": [
            [
             0,
             "#0d0887"
            ],
            [
             0.1111111111111111,
             "#46039f"
            ],
            [
             0.2222222222222222,
             "#7201a8"
            ],
            [
             0.3333333333333333,
             "#9c179e"
            ],
            [
             0.4444444444444444,
             "#bd3786"
            ],
            [
             0.5555555555555556,
             "#d8576b"
            ],
            [
             0.6666666666666666,
             "#ed7953"
            ],
            [
             0.7777777777777778,
             "#fb9f3a"
            ],
            [
             0.8888888888888888,
             "#fdca26"
            ],
            [
             1,
             "#f0f921"
            ]
           ]
          },
          "colorway": [
           "#636efa",
           "#EF553B",
           "#00cc96",
           "#ab63fa",
           "#FFA15A",
           "#19d3f3",
           "#FF6692",
           "#B6E880",
           "#FF97FF",
           "#FECB52"
          ],
          "font": {
           "color": "#2a3f5f"
          },
          "geo": {
           "bgcolor": "white",
           "lakecolor": "white",
           "landcolor": "#E5ECF6",
           "showlakes": true,
           "showland": true,
           "subunitcolor": "white"
          },
          "hoverlabel": {
           "align": "left"
          },
          "hovermode": "closest",
          "mapbox": {
           "style": "light"
          },
          "paper_bgcolor": "white",
          "plot_bgcolor": "#E5ECF6",
          "polar": {
           "angularaxis": {
            "gridcolor": "white",
            "linecolor": "white",
            "ticks": ""
           },
           "bgcolor": "#E5ECF6",
           "radialaxis": {
            "gridcolor": "white",
            "linecolor": "white",
            "ticks": ""
           }
          },
          "scene": {
           "xaxis": {
            "backgroundcolor": "#E5ECF6",
            "gridcolor": "white",
            "gridwidth": 2,
            "linecolor": "white",
            "showbackground": true,
            "ticks": "",
            "zerolinecolor": "white"
           },
           "yaxis": {
            "backgroundcolor": "#E5ECF6",
            "gridcolor": "white",
            "gridwidth": 2,
            "linecolor": "white",
            "showbackground": true,
            "ticks": "",
            "zerolinecolor": "white"
           },
           "zaxis": {
            "backgroundcolor": "#E5ECF6",
            "gridcolor": "white",
            "gridwidth": 2,
            "linecolor": "white",
            "showbackground": true,
            "ticks": "",
            "zerolinecolor": "white"
           }
          },
          "shapedefaults": {
           "line": {
            "color": "#2a3f5f"
           }
          },
          "ternary": {
           "aaxis": {
            "gridcolor": "white",
            "linecolor": "white",
            "ticks": ""
           },
           "baxis": {
            "gridcolor": "white",
            "linecolor": "white",
            "ticks": ""
           },
           "bgcolor": "#E5ECF6",
           "caxis": {
            "gridcolor": "white",
            "linecolor": "white",
            "ticks": ""
           }
          },
          "title": {
           "x": 0.05
          },
          "xaxis": {
           "automargin": true,
           "gridcolor": "white",
           "linecolor": "white",
           "ticks": "",
           "title": {
            "standoff": 15
           },
           "zerolinecolor": "white",
           "zerolinewidth": 2
          },
          "yaxis": {
           "automargin": true,
           "gridcolor": "white",
           "linecolor": "white",
           "ticks": "",
           "title": {
            "standoff": 15
           },
           "zerolinecolor": "white",
           "zerolinewidth": 2
          }
         }
        },
        "title": {
         "text": "Correlation heatmap of dataframe"
        },
        "xaxis": {
         "anchor": "y",
         "constrain": "domain",
         "domain": [
          0,
          1
         ],
         "scaleanchor": "y"
        },
        "yaxis": {
         "anchor": "x",
         "autorange": "reversed",
         "constrain": "domain",
         "domain": [
          0,
          1
         ]
        }
       }
      }
     },
     "metadata": {},
     "output_type": "display_data"
    }
   ],
   "source": [
    "import plotly.express as px\n",
    "px.imshow(df.corr(), title=\"Correlation heatmap of dataframe\")"
   ]
  },
  {
   "cell_type": "code",
   "execution_count": 5,
   "metadata": {},
   "outputs": [
    {
     "name": "stdout",
     "output_type": "stream",
     "text": [
      "0.7667705360620928 0.7667122777516978 0.8437655348282636 0.8437560783795666 0.0006014073445490542\n"
     ]
    }
   ],
   "source": [
    "df['Rotational speed [rpm]'] = boxcox(df['Rotational speed [rpm]'])[0]\n",
    "\n",
    "df.rename(columns={'Air temperature [K]': 'Air_temperature_K', 'Process temperature [K]': 'Process_temperature_K', 'Rotational speed [rpm]': 'Rotational_speed_rpm', 'Torque [Nm]': 'Torque_Nm', 'Tool wear [min]': 'Tool_wear_min'}, inplace=True)\n",
    "\n",
    "model0 = smf.ols('Air_temperature_K ~ Process_temperature_K + Rotational_speed_rpm + Torque_Nm + Tool_wear_min', df).fit()\n",
    "model1 = smf.ols('Process_temperature_K ~ Air_temperature_K + Rotational_speed_rpm + Torque_Nm + Tool_wear_min', df).fit()\n",
    "model2 = smf.ols('Rotational_speed_rpm ~ Air_temperature_K + Process_temperature_K + Torque_Nm + Tool_wear_min', df).fit()\n",
    "model3 = smf.ols('Torque_Nm ~ Air_temperature_K + Process_temperature_K + Rotational_speed_rpm + Tool_wear_min', df).fit()\n",
    "model4 = smf.ols('Tool_wear_min ~ Air_temperature_K + Process_temperature_K + Rotational_speed_rpm + Torque_Nm', df).fit()\n",
    "print(model0.rsquared, model1.rsquared, model2.rsquared, model3.rsquared, model4.rsquared)\n",
    "\n",
    "df.rename(columns={\"Air_temperature_K\": \"Air temperature [K]\", \"Process_temperature_K\": \"Process temperature [K]\", 'Rotational_speed_rpm': 'Rotational speed [rpm]', 'Torque_Nm': 'Torque [Nm]', 'Tool_wear_min': 'Tool wear [min]'}, inplace=True)\n"
   ]
  },
  {
   "cell_type": "code",
   "execution_count": 6,
   "metadata": {},
   "outputs": [],
   "source": [
    "data = {('Air_temp', 'Max'): [], ('Air_temp', 'Min'): [], ('Process_temp', 'Max'): [], ('Process_temp', 'Min'): [], ('Torque', 'Max'): [], ('Torque', 'Min'): [], ('Tool_wear', 'Max'): [], ('Tool_wear', 'Min'): []}\n",
    "for column in range(3, 7):\n",
    "    all_max = df[df.columns[column]].max()\n",
    "    all_min = df[df.columns[column]].min()\n",
    "    H_max = df[df['Type'] == 'H'][df.columns[column]].max()\n",
    "    H_min = df[df['Type'] == 'H'][df.columns[column]].min()\n",
    "    M_max = df[df['Type'] == 'M'][df.columns[column]].max()\n",
    "    M_min = df[df['Type'] == 'M'][df.columns[column]].min()\n",
    "    L_max = df[df['Type'] == 'L'][df.columns[column]].max()\n",
    "    L_min = df[df['Type'] == 'L'][df.columns[column]].min()\n",
    "    data[list(data.keys())[2*column - 6]] = [all_max, H_max, M_max, L_max]\n",
    "    data[list(data.keys())[2*column - 5]] = [all_min, H_min, M_min, L_min]\n",
    "range_table = pd.DataFrame(data, index=['All', 'H', 'M', 'L'])"
   ]
  },
  {
   "cell_type": "code",
   "execution_count": 7,
   "metadata": {},
   "outputs": [
    {
     "data": {
      "text/html": [
       "<div>\n",
       "<style scoped>\n",
       "    .dataframe tbody tr th:only-of-type {\n",
       "        vertical-align: middle;\n",
       "    }\n",
       "\n",
       "    .dataframe tbody tr th {\n",
       "        vertical-align: top;\n",
       "    }\n",
       "\n",
       "    .dataframe thead tr th {\n",
       "        text-align: left;\n",
       "    }\n",
       "</style>\n",
       "<table border=\"1\" class=\"dataframe\">\n",
       "  <thead>\n",
       "    <tr>\n",
       "      <th></th>\n",
       "      <th colspan=\"2\" halign=\"left\">Air_temp</th>\n",
       "      <th colspan=\"2\" halign=\"left\">Process_temp</th>\n",
       "      <th colspan=\"2\" halign=\"left\">Torque</th>\n",
       "      <th colspan=\"2\" halign=\"left\">Tool_wear</th>\n",
       "    </tr>\n",
       "    <tr>\n",
       "      <th></th>\n",
       "      <th>Max</th>\n",
       "      <th>Min</th>\n",
       "      <th>Max</th>\n",
       "      <th>Min</th>\n",
       "      <th>Max</th>\n",
       "      <th>Min</th>\n",
       "      <th>Max</th>\n",
       "      <th>Min</th>\n",
       "    </tr>\n",
       "  </thead>\n",
       "  <tbody>\n",
       "    <tr>\n",
       "      <th>All</th>\n",
       "      <td>304.5</td>\n",
       "      <td>295.3</td>\n",
       "      <td>313.8</td>\n",
       "      <td>305.7</td>\n",
       "      <td>0.316214</td>\n",
       "      <td>0.316214</td>\n",
       "      <td>76.6</td>\n",
       "      <td>3.8</td>\n",
       "    </tr>\n",
       "    <tr>\n",
       "      <th>H</th>\n",
       "      <td>304.2</td>\n",
       "      <td>295.5</td>\n",
       "      <td>313.5</td>\n",
       "      <td>305.9</td>\n",
       "      <td>0.316214</td>\n",
       "      <td>0.316214</td>\n",
       "      <td>72.8</td>\n",
       "      <td>12.8</td>\n",
       "    </tr>\n",
       "    <tr>\n",
       "      <th>M</th>\n",
       "      <td>304.4</td>\n",
       "      <td>295.3</td>\n",
       "      <td>313.8</td>\n",
       "      <td>305.7</td>\n",
       "      <td>0.316214</td>\n",
       "      <td>0.316214</td>\n",
       "      <td>76.2</td>\n",
       "      <td>9.7</td>\n",
       "    </tr>\n",
       "    <tr>\n",
       "      <th>L</th>\n",
       "      <td>304.5</td>\n",
       "      <td>295.3</td>\n",
       "      <td>313.8</td>\n",
       "      <td>305.7</td>\n",
       "      <td>0.316214</td>\n",
       "      <td>0.316214</td>\n",
       "      <td>76.6</td>\n",
       "      <td>3.8</td>\n",
       "    </tr>\n",
       "  </tbody>\n",
       "</table>\n",
       "</div>"
      ],
      "text/plain": [
       "    Air_temp        Process_temp           Torque           Tool_wear      \n",
       "         Max    Min          Max    Min       Max       Min       Max   Min\n",
       "All    304.5  295.3        313.8  305.7  0.316214  0.316214      76.6   3.8\n",
       "H      304.2  295.5        313.5  305.9  0.316214  0.316214      72.8  12.8\n",
       "M      304.4  295.3        313.8  305.7  0.316214  0.316214      76.2   9.7\n",
       "L      304.5  295.3        313.8  305.7  0.316214  0.316214      76.6   3.8"
      ]
     },
     "metadata": {},
     "output_type": "display_data"
    }
   ],
   "source": [
    "display(range_table)"
   ]
  },
  {
   "cell_type": "code",
   "execution_count": 10,
   "metadata": {},
   "outputs": [
    {
     "data": {
      "image/png": "[encoded data removed]",
      "text/plain": [
       "<Figure size 640x480 with 1 Axes>"
      ]
     },
     "metadata": {},
     "output_type": "display_data"
    }
   ],
   "source": [
    "column = 'Air temperature [K]'\n",
    "x_twf = df[df['TWF'] != 0.0][column]\n",
    "x_hdf = df[df['HDF'] != 0.0][column]\n",
    "x_pwf = df[df['PWF'] != 0.0][column]\n",
    "x_osf = df[df['OSF'] != 0.0][column]\n",
    "x_rnf = df[df['RNF'] != 0.0][column]\n",
    "x_total = df[df['Machine failure'] != 0.0][column]\n",
    "data = [x_hdf, x_total]\n",
    "\n",
    "for x in data:\n",
    "    plt.hist(x, bins=20, alpha=0.5)\n",
    "    plt.xlim([df[column].min(), df[column].max()])"
   ]
  },
  {
   "cell_type": "markdown",
   "metadata": {},
   "source": [
    "HDF happens for process temp between 310 and 312 and air temp between 300 and 304\n",
    "HDF happens for torque between 42 and 68\n",
    "PWF happens for torque between 4 and 18 and between 59 and 76\n",
    "OSF happens for torque greater than 46\n",
    "TWF happens for tool wear greater than 195\n",
    "OSF happens for tool wear greater than 160\n",
    "\n",
    "Failures happen at tool wear greater than 200\n",
    "Failures happen at torque greater than 40"
   ]
  },
  {
   "cell_type": "code",
   "execution_count": 9,
   "metadata": {},
   "outputs": [
    {
     "data": {
      "image/png": "[encoded data removed]",
      "text/plain": [
       "<Figure size 640x480 with 1 Axes>"
      ]
     },
     "metadata": {},
     "output_type": "display_data"
    }
   ],
   "source": [
    "plt.hist(df['HDF'], bins=20)\n",
    "plt.xlim([df['Air temperature [K]'].min(), df['Air temperature [K]'].max()])\n",
    "plt.show()"
   ]
  },
  {
   "cell_type": "code",
   "execution_count": 9,
   "metadata": {},
   "outputs": [
    {
     "name": "stdout",
     "output_type": "stream",
     "text": [
      "Index(['UDI', 'Product ID', 'Type', 'Air temperature [K]',\n",
      "       'Process temperature [K]', 'Rotational speed [rpm]', 'Torque [Nm]',\n",
      "       'Tool wear [min]', 'Machine failure', 'TWF', 'HDF', 'PWF', 'OSF',\n",
      "       'RNF'],\n",
      "      dtype='object')\n"
     ]
    }
   ],
   "source": [
    "print(df.columns)"
   ]
  },
  {
   "cell_type": "code",
   "execution_count": 10,
   "metadata": {},
   "outputs": [],
   "source": [
    "H_failures = df[(df['Machine failure'] != 0.0) & (df['Type'] == 'H')]\n",
    "M_failures = df[(df['Machine failure'] != 0.0) & (df['Type'] == 'M')]\n",
    "L_failures = df[(df['Machine failure'] != 0.0) & (df['Type'] == 'L')]\n",
    "\n"
   ]
  },
  {
   "cell_type": "code",
   "execution_count": 11,
   "metadata": {},
   "outputs": [],
   "source": [
    "TWF_failures = df[df['TWF'] != 0.0]\n",
    "HDF_failures = df[df['HDF'] != 0.0]\n",
    "PWF_failures = df[df['PWF'] != 0.0]\n",
    "OSF_failures = df[df['OSF'] != 0.0]\n",
    "RNF_failures = df[df['RNF'] != 0.0]"
   ]
  },
  {
   "cell_type": "code",
   "execution_count": 14,
   "metadata": {},
   "outputs": [
    {
     "name": "stderr",
     "output_type": "stream",
     "text": [
      "C:\\Users\\srayn\\AppData\\Local\\Temp\\ipykernel_11756\\1673433587.py:4: UserWarning:\n",
      "\n",
      "Boolean Series key will be reindexed to match DataFrame index.\n",
      "\n",
      "C:\\Users\\srayn\\AppData\\Local\\Temp\\ipykernel_11756\\1673433587.py:5: UserWarning:\n",
      "\n",
      "Boolean Series key will be reindexed to match DataFrame index.\n",
      "\n",
      "C:\\Users\\srayn\\AppData\\Local\\Temp\\ipykernel_11756\\1673433587.py:6: UserWarning:\n",
      "\n",
      "Boolean Series key will be reindexed to match DataFrame index.\n",
      "\n"
     ]
    }
   ],
   "source": [
    "failure_types = [TWF_failures, HDF_failures, PWF_failures, OSF_failures, RNF_failures]\n",
    "ax4_heights = {'High': [], 'Medium': [], 'Low': []}\n",
    "for failure_type in failure_types:\n",
    "    H_failure = len(failure_type[df['Type'] == 'H'])\n",
    "    M_failure = len(failure_type[df['Type'] == 'M'])\n",
    "    L_failure = len(failure_type[df['Type'] == 'L'])\n",
    "    ax4_heights['High'].append(H_failure)\n",
    "    ax4_heights['Medium'].append(M_failure)\n",
    "    ax4_heights['Low'].append(L_failure)\n",
    "ax4_bars = ('TWF', 'HDF', 'PWF', 'OSF', 'RNF')\n"
   ]
  },
  {
   "cell_type": "code",
   "execution_count": 36,
   "metadata": {},
   "outputs": [
    {
     "data": {
      "image/png": "[encoded data removed]",
      "text/plain": [
       "<Figure size 640x480 with 1 Axes>"
      ]
     },
     "metadata": {},
     "output_type": "display_data"
    },
    {
     "name": "stdout",
     "output_type": "stream",
     "text": [
      "{'High': [7, 8, 5, 2, 4], 'Medium': [14, 31, 31, 9, 2], 'Low': [25, 76, 59, 87, 13]}\n"
     ]
    }
   ],
   "source": [
    "x = np.arange(len(ax4_bars))  # the label locations\n",
    "bar_width = 0.2  # the width of the bars\n",
    "for index in range(3):\n",
    "    plt.bar(x + index*bar_width, list(ax4_heights.values())[index], width=bar_width)\n",
    "    plt.text(0 + index/5, list(ax4_heights.values())[index][0] + 1, s=f'{list(ax4_heights.values())[index][0]}', ha='center')\n",
    "    plt.text(1 + index/5, list(ax4_heights.values())[index][1] + 1, s=f'{list(ax4_heights.values())[index][1]}', ha='center')\n",
    "    plt.text(2 + index/5, list(ax4_heights.values())[index][2] + 1, s=f'{list(ax4_heights.values())[index][2]}', ha='center')\n",
    "    plt.text(3 + index/5, list(ax4_heights.values())[index][3] + 1, s=f'{list(ax4_heights.values())[index][3]}', ha='center')\n",
    "    plt.text(4 + index/5, list(ax4_heights.values())[index][4] + 1, s=f'{list(ax4_heights.values())[index][4]}', ha='center')\n",
    "plt.xticks(x + 0.2, ax4_bars)\n",
    "plt.title('Machine failure types by product quality')\n",
    "plt.xlabel('Type')\n",
    "plt.ylabel('Frequency')\n",
    "plt.legend(list(ax4_heights.keys()))\n",
    "plt.show()"
   ]
  }
 ],
 "metadata": {
  "kernelspec": {
   "display_name": "base",
   "language": "python",
   "name": "python3"
  },
  "language_info": {
   "codemirror_mode": {
    "name": "ipython",
    "version": 3
   },
   "file_extension": ".py",
   "mimetype": "text/x-python",
   "name": "python",
   "nbconvert_exporter": "python",
   "pygments_lexer": "ipython3",
   "version": "3.8.17"
  }
 },
 "nbformat": 4,
 "nbformat_minor": 2
}
