{
 "cells": [
  {
   "cell_type": "code",
   "execution_count": 53,
   "metadata": {},
   "outputs": [],
   "source": [
    "import pandas as pd\n",
    "import numpy as np\n",
    "import matplotlib.pyplot as plt\n",
    "from scipy.stats import boxcox, yeojohnson\n",
    "import statsmodels.regression.linear_model as srl\n",
    "import statsmodels.formula.api as smf"
   ]
  },
  {
   "cell_type": "code",
   "execution_count": 54,
   "metadata": {},
   "outputs": [
    {
     "name": "stdout",
     "output_type": "stream",
     "text": [
      "0.6504895742994061\n",
      "1.1764186050600978\n"
     ]
    },
    {
     "name": "stderr",
     "output_type": "stream",
     "text": [
      "C:\\Users\\srayn\\AppData\\Local\\Temp\\ipykernel_15936\\3555969118.py:15: SettingWithCopyWarning: \n",
      "A value is trying to be set on a copy of a slice from a DataFrame.\n",
      "Try using .loc[row_indexer,col_indexer] = value instead\n",
      "\n",
      "See the caveats in the documentation: https://pandas.pydata.org/pandas-docs/stable/user_guide/indexing.html#returning-a-view-versus-a-copy\n",
      "  process_temp_nulls['Process temperature [K]'] = np.round(process_temp_gradient * process_temp_nulls['Air temperature [K]'] + process_temp_intercept, 1)\n",
      "C:\\Users\\srayn\\AppData\\Local\\Temp\\ipykernel_15936\\3555969118.py:17: SettingWithCopyWarning: \n",
      "A value is trying to be set on a copy of a slice from a DataFrame.\n",
      "Try using .loc[row_indexer,col_indexer] = value instead\n",
      "\n",
      "See the caveats in the documentation: https://pandas.pydata.org/pandas-docs/stable/user_guide/indexing.html#returning-a-view-versus-a-copy\n",
      "  air_temp_nulls['Air temperature [K]'] = np.round(air_temp_gradient * air_temp_nulls['Process temperature [K]'] + air_temp_intercept, 1)\n"
     ]
    }
   ],
   "source": [
    "def load_data():\n",
    "        '''\n",
    "        This function loads the data from a csv file.\n",
    "        \n",
    "        Returns:\n",
    "            df (DataFrame): The loaded data.\n",
    "        '''\n",
    "        df = pd.read_csv('failure_data.csv')\n",
    "        \n",
    "        df['Type'] = df['Type'].astype('category')\n",
    "        without_nulls = df.dropna(subset=('Air temperature [K]', 'Process temperature [K]'))\n",
    "        process_temp_gradient, process_temp_intercept = np.polyfit(without_nulls['Air temperature [K]'], without_nulls['Process temperature [K]'], deg=1)\n",
    "        air_temp_gradient, air_temp_intercept = np.polyfit(without_nulls['Process temperature [K]'], without_nulls['Air temperature [K]'], deg=1)\n",
    "        process_temp_nulls = df[df['Air temperature [K]'].notnull() & df['Process temperature [K]'].isnull()]\n",
    "        process_temp_nulls['Process temperature [K]'] = np.round(process_temp_gradient * process_temp_nulls['Air temperature [K]'] + process_temp_intercept, 1)\n",
    "        air_temp_nulls = df[df['Air temperature [K]'].isnull() & df['Process temperature [K]'].notnull()]\n",
    "        air_temp_nulls['Air temperature [K]'] = np.round(air_temp_gradient * air_temp_nulls['Process temperature [K]'] + air_temp_intercept, 1)\n",
    "        df.update(air_temp_nulls)\n",
    "        df.update(process_temp_nulls)\n",
    "        df = df.dropna(subset=('Air temperature [K]', 'Process temperature [K]'))\n",
    "        df['Tool wear [min]'] = df['Tool wear [min]'].fillna(df['Tool wear [min]'].mean())\n",
    "\n",
    "        df['Rotational speed [rpm]'] = boxcox(df['Rotational speed [rpm]'])[0]\n",
    "        df['Machine failure'] = yeojohnson(df['Machine failure'] + 0.1)[0]\n",
    "        df['TWF'] = yeojohnson(df['TWF'] + 0.1)[0]\n",
    "        df['HDF'] = yeojohnson(df['HDF'] + 0.1)[0]\n",
    "        df['PWF'] = yeojohnson(df['PWF'] + 0.1)[0]\n",
    "        df['OSF'] = yeojohnson(df['OSF'] + 0.1)[0]\n",
    "        df['RNF'] = yeojohnson(df['RNF'] + 0.1)[0]\n",
    "        print(process_temp_gradient)\n",
    "        print(air_temp_gradient)\n",
    "        return df\n",
    "\n",
    "df = load_data()\n"
   ]
  },
  {
   "cell_type": "code",
   "execution_count": 5,
   "metadata": {},
   "outputs": [
    {
     "name": "stderr",
     "output_type": "stream",
     "text": [
      "C:\\Users\\srayn\\AppData\\Local\\Temp\\ipykernel_17984\\390849661.py:2: FutureWarning: The default value of numeric_only in DataFrame.corr is deprecated. In a future version, it will default to False. Select only valid columns or specify the value of numeric_only to silence this warning.\n",
      "  px.imshow(df.corr(), title=\"Correlation heatmap of dataframe\")\n"
     ]
    },
    {
     "data": {
      "application/vnd.plotly.v1+json": {
       "config": {
        "plotlyServerURL": "https://plot.ly"
       },
       "data": [
        {
         "coloraxis": "coloraxis",
         "hovertemplate": "x: %{x}<br>y: %{y}<br>color: %{z}<extra></extra>",
         "name": "0",
         "type": "heatmap",
         "x": [
          "UDI",
          "Air temperature [K]",
          "Process temperature [K]",
          "Rotational speed [rpm]",
          "Torque [Nm]",
          "Tool wear [min]",
          "Machine failure",
          "TWF",
          "HDF",
          "PWF",
          "OSF",
          "RNF"
         ],
         "xaxis": "x",
         "y": [
          "UDI",
          "Air temperature [K]",
          "Process temperature [K]",
          "Rotational speed [rpm]",
          "Torque [Nm]",
          "Tool wear [min]",
          "Machine failure",
          "TWF",
          "HDF",
          "PWF",
          "OSF",
          "RNF"
         ],
         "yaxis": "y",
         "z": [
          [
           1,
           0.13089746881999983,
           0.30988592867517134,
           -0.0015814046054784643,
           0.0037611939840728227,
           -0.012416065522868313,
           -0.022499528106728096,
           0.007988729763616344,
           -0.022321323448192428,
           -0.024477519902267545,
           0.0006837147491901404,
           -0.00856255864309274
          ],
          [
           0.13089746881999983,
           1,
           0.8916840754273357,
           0.01858742337453323,
           -0.014149581614893906,
           0.014272591355039903,
           0.0786626022274502,
           0.012591324578315424,
           0.13149946870635074,
           0.0027529240118246995,
           0.0017195610106334528,
           0.019701687396967534
          ],
          [
           0.30988592867517134,
           0.8916840754273357,
           1,
           0.017054240564622715,
           -0.01209037147102261,
           0.0067765696756862245,
           0.04071063932509909,
           0.011420581793512337,
           0.062442526984205105,
           -0.0016685173837167387,
           0.006351264380125942,
           0.021031493068223113
          ],
          [
           -0.0015814046054784643,
           0.01858742337453323,
           0.017054240564622715,
           1,
           -0.9180011793655973,
           0.0011218717855218982,
           -0.1610092930845634,
           0.008289247163849892,
           -0.16971579749842045,
           -0.012716774261737361,
           -0.14560838444895371,
           -0.012749250641705703
          ],
          [
           0.0037611939840728227,
           -0.014149581614893906,
           -0.01209037147102261,
           -0.9180011793655973,
           1,
           -0.000022750269469270876,
           0.18958122429382712,
           -0.013104949381868054,
           0.14246546016745718,
           0.08172681465733317,
           0.18314536172741402,
           0.015981179456892664
          ],
          [
           -0.012416065522868313,
           0.014272591355039903,
           0.0067765696756862245,
           0.0011218717855218982,
           -0.000022750269469270876,
           1,
           0.10374757935239028,
           0.11333010682758901,
           -0.0007445173064096098,
           -0.008432101046433542,
           0.15375999179231867,
           0.009934255379486829
          ],
          [
           -0.022499528106728096,
           0.0786626022274502,
           0.04071063932509909,
           -0.1610092930845634,
           0.18958122429382712,
           0.10374757935239028,
           1,
           0.36058532430341644,
           0.5758518387351925,
           0.5223719738727955,
           0.5307232455645501,
           0.005632130299518803
          ],
          [
           0.007988729763616344,
           0.012591324578315424,
           0.011420581793512337,
           0.008289247163849892,
           -0.013104949381868054,
           0.11333010682758901,
           0.36058532430341644,
           1,
           -0.00582784220637548,
           0.009991146311242007,
           0.03767286422414205,
           0.04321154262799327
          ],
          [
           -0.022321323448192428,
           0.13149946870635074,
           0.062442526984205105,
           -0.16971579749842045,
           0.14246546016745718,
           -0.0007445173064096098,
           0.5758518387351925,
           -0.00582784220637548,
           1,
           0.018742678673948975,
           0.04695745430802896,
           -0.004084400564036096
          ],
          [
           -0.024477519902267545,
           0.0027529240118246995,
           -0.0016685173837167387,
           -0.012716774261737361,
           0.08172681465733317,
           -0.008432101046433542,
           0.5223719738727955,
           0.009991146311242007,
           0.018742678673948975,
           1,
           0.1171730083745052,
           -0.004143836148152318
          ],
          [
           0.0006837147491901404,
           0.0017195610106334528,
           0.006351264380125942,
           -0.14560838444895371,
           0.18314536172741402,
           0.15375999179231867,
           0.5307232455645501,
           0.03767286422414205,
           0.04695745430802896,
           0.1171730083745052,
           1,
           -0.00430268239426082
          ],
          [
           -0.00856255864309274,
           0.019701687396967534,
           0.021031493068223113,
           -0.012749250641705703,
           0.015981179456892664,
           0.009934255379486829,
           0.005632130299518803,
           0.04321154262799327,
           -0.004084400564036096,
           -0.004143836148152318,
           -0.00430268239426082,
           1
          ]
         ]
        }
       ],
       "layout": {
        "coloraxis": {
         "colorscale": [
          [
           0,
           "#0d0887"
          ],
          [
           0.1111111111111111,
           "#46039f"
          ],
          [
           0.2222222222222222,
           "#7201a8"
          ],
          [
           0.3333333333333333,
           "#9c179e"
          ],
          [
           0.4444444444444444,
           "#bd3786"
          ],
          [
           0.5555555555555556,
           "#d8576b"
          ],
          [
           0.6666666666666666,
           "#ed7953"
          ],
          [
           0.7777777777777778,
           "#fb9f3a"
          ],
          [
           0.8888888888888888,
           "#fdca26"
          ],
          [
           1,
           "#f0f921"
          ]
         ]
        },
        "template": {
         "data": {
          "bar": [
           {
            "error_x": {
             "color": "#2a3f5f"
            },
            "error_y": {
             "color": "#2a3f5f"
            },
            "marker": {
             "line": {
              "color": "#E5ECF6",
              "width": 0.5
             },
             "pattern": {
              "fillmode": "overlay",
              "size": 10,
              "solidity": 0.2
             }
            },
            "type": "bar"
           }
          ],
          "barpolar": [
           {
            "marker": {
             "line": {
              "color": "#E5ECF6",
              "width": 0.5
             },
             "pattern": {
              "fillmode": "overlay",
              "size": 10,
              "solidity": 0.2
             }
            },
            "type": "barpolar"
           }
          ],
          "carpet": [
           {
            "aaxis": {
             "endlinecolor": "#2a3f5f",
             "gridcolor": "white",
             "linecolor": "white",
             "minorgridcolor": "white",
             "startlinecolor": "#2a3f5f"
            },
            "baxis": {
             "endlinecolor": "#2a3f5f",
             "gridcolor": "white",
             "linecolor": "white",
             "minorgridcolor": "white",
             "startlinecolor": "#2a3f5f"
            },
            "type": "carpet"
           }
          ],
          "choropleth": [
           {
            "colorbar": {
             "outlinewidth": 0,
             "ticks": ""
            },
            "type": "choropleth"
           }
          ],
          "contour": [
           {
            "colorbar": {
             "outlinewidth": 0,
             "ticks": ""
            },
            "colorscale": [
             [
              0,
              "#0d0887"
             ],
             [
              0.1111111111111111,
              "#46039f"
             ],
             [
              0.2222222222222222,
              "#7201a8"
             ],
             [
              0.3333333333333333,
              "#9c179e"
             ],
             [
              0.4444444444444444,
              "#bd3786"
             ],
             [
              0.5555555555555556,
              "#d8576b"
             ],
             [
              0.6666666666666666,
              "#ed7953"
             ],
             [
              0.7777777777777778,
              "#fb9f3a"
             ],
             [
              0.8888888888888888,
              "#fdca26"
             ],
             [
              1,
              "#f0f921"
             ]
            ],
            "type": "contour"
           }
          ],
          "contourcarpet": [
           {
            "colorbar": {
             "outlinewidth": 0,
             "ticks": ""
            },
            "type": "contourcarpet"
           }
          ],
          "heatmap": [
           {
            "colorbar": {
             "outlinewidth": 0,
             "ticks": ""
            },
            "colorscale": [
             [
              0,
              "#0d0887"
             ],
             [
              0.1111111111111111,
              "#46039f"
             ],
             [
              0.2222222222222222,
              "#7201a8"
             ],
             [
              0.3333333333333333,
              "#9c179e"
             ],
             [
              0.4444444444444444,
              "#bd3786"
             ],
             [
              0.5555555555555556,
              "#d8576b"
             ],
             [
              0.6666666666666666,
              "#ed7953"
             ],
             [
              0.7777777777777778,
              "#fb9f3a"
             ],
             [
              0.8888888888888888,
              "#fdca26"
             ],
             [
              1,
              "#f0f921"
             ]
            ],
            "type": "heatmap"
           }
          ],
          "heatmapgl": [
           {
            "colorbar": {
             "outlinewidth": 0,
             "ticks": ""
            },
            "colorscale": [
             [
              0,
              "#0d0887"
             ],
             [
              0.1111111111111111,
              "#46039f"
             ],
             [
              0.2222222222222222,
              "#7201a8"
             ],
             [
              0.3333333333333333,
              "#9c179e"
             ],
             [
              0.4444444444444444,
              "#bd3786"
             ],
             [
              0.5555555555555556,
              "#d8576b"
             ],
             [
              0.6666666666666666,
              "#ed7953"
             ],
             [
              0.7777777777777778,
              "#fb9f3a"
             ],
             [
              0.8888888888888888,
              "#fdca26"
             ],
             [
              1,
              "#f0f921"
             ]
            ],
            "type": "heatmapgl"
           }
          ],
          "histogram": [
           {
            "marker": {
             "pattern": {
              "fillmode": "overlay",
              "size": 10,
              "solidity": 0.2
             }
            },
            "type": "histogram"
           }
          ],
          "histogram2d": [
           {
            "colorbar": {
             "outlinewidth": 0,
             "ticks": ""
            },
            "colorscale": [
             [
              0,
              "#0d0887"
             ],
             [
              0.1111111111111111,
              "#46039f"
             ],
             [
              0.2222222222222222,
              "#7201a8"
             ],
             [
              0.3333333333333333,
              "#9c179e"
             ],
             [
              0.4444444444444444,
              "#bd3786"
             ],
             [
              0.5555555555555556,
              "#d8576b"
             ],
             [
              0.6666666666666666,
              "#ed7953"
             ],
             [
              0.7777777777777778,
              "#fb9f3a"
             ],
             [
              0.8888888888888888,
              "#fdca26"
             ],
             [
              1,
              "#f0f921"
             ]
            ],
            "type": "histogram2d"
           }
          ],
          "histogram2dcontour": [
           {
            "colorbar": {
             "outlinewidth": 0,
             "ticks": ""
            },
            "colorscale": [
             [
              0,
              "#0d0887"
             ],
             [
              0.1111111111111111,
              "#46039f"
             ],
             [
              0.2222222222222222,
              "#7201a8"
             ],
             [
              0.3333333333333333,
              "#9c179e"
             ],
             [
              0.4444444444444444,
              "#bd3786"
             ],
             [
              0.5555555555555556,
              "#d8576b"
             ],
             [
              0.6666666666666666,
              "#ed7953"
             ],
             [
              0.7777777777777778,
              "#fb9f3a"
             ],
             [
              0.8888888888888888,
              "#fdca26"
             ],
             [
              1,
              "#f0f921"
             ]
            ],
            "type": "histogram2dcontour"
           }
          ],
          "mesh3d": [
           {
            "colorbar": {
             "outlinewidth": 0,
             "ticks": ""
            },
            "type": "mesh3d"
           }
          ],
          "parcoords": [
           {
            "line": {
             "colorbar": {
              "outlinewidth": 0,
              "ticks": ""
             }
            },
            "type": "parcoords"
           }
          ],
          "pie": [
           {
            "automargin": true,
            "type": "pie"
           }
          ],
          "scatter": [
           {
            "fillpattern": {
             "fillmode": "overlay",
             "size": 10,
             "solidity": 0.2
            },
            "type": "scatter"
           }
          ],
          "scatter3d": [
           {
            "line": {
             "colorbar": {
              "outlinewidth": 0,
              "ticks": ""
             }
            },
            "marker": {
             "colorbar": {
              "outlinewidth": 0,
              "ticks": ""
             }
            },
            "type": "scatter3d"
           }
          ],
          "scattercarpet": [
           {
            "marker": {
             "colorbar": {
              "outlinewidth": 0,
              "ticks": ""
             }
            },
            "type": "scattercarpet"
           }
          ],
          "scattergeo": [
           {
            "marker": {
             "colorbar": {
              "outlinewidth": 0,
              "ticks": ""
             }
            },
            "type": "scattergeo"
           }
          ],
          "scattergl": [
           {
            "marker": {
             "colorbar": {
              "outlinewidth": 0,
              "ticks": ""
             }
            },
            "type": "scattergl"
           }
          ],
          "scattermapbox": [
           {
            "marker": {
             "colorbar": {
              "outlinewidth": 0,
              "ticks": ""
             }
            },
            "type": "scattermapbox"
           }
          ],
          "scatterpolar": [
           {
            "marker": {
             "colorbar": {
              "outlinewidth": 0,
              "ticks": ""
             }
            },
            "type": "scatterpolar"
           }
          ],
          "scatterpolargl": [
           {
            "marker": {
             "colorbar": {
              "outlinewidth": 0,
              "ticks": ""
             }
            },
            "type": "scatterpolargl"
           }
          ],
          "scatterternary": [
           {
            "marker": {
             "colorbar": {
              "outlinewidth": 0,
              "ticks": ""
             }
            },
            "type": "scatterternary"
           }
          ],
          "surface": [
           {
            "colorbar": {
             "outlinewidth": 0,
             "ticks": ""
            },
            "colorscale": [
             [
              0,
              "#0d0887"
             ],
             [
              0.1111111111111111,
              "#46039f"
             ],
             [
              0.2222222222222222,
              "#7201a8"
             ],
             [
              0.3333333333333333,
              "#9c179e"
             ],
             [
              0.4444444444444444,
              "#bd3786"
             ],
             [
              0.5555555555555556,
              "#d8576b"
             ],
             [
              0.6666666666666666,
              "#ed7953"
             ],
             [
              0.7777777777777778,
              "#fb9f3a"
             ],
             [
              0.8888888888888888,
              "#fdca26"
             ],
             [
              1,
              "#f0f921"
             ]
            ],
            "type": "surface"
           }
          ],
          "table": [
           {
            "cells": {
             "fill": {
              "color": "#EBF0F8"
             },
             "line": {
              "color": "white"
             }
            },
            "header": {
             "fill": {
              "color": "#C8D4E3"
             },
             "line": {
              "color": "white"
             }
            },
            "type": "table"
           }
          ]
         },
         "layout": {
          "annotationdefaults": {
           "arrowcolor": "#2a3f5f",
           "arrowhead": 0,
           "arrowwidth": 1
          },
          "autotypenumbers": "strict",
          "coloraxis": {
           "colorbar": {
            "outlinewidth": 0,
            "ticks": ""
           }
          },
          "colorscale": {
           "diverging": [
            [
             0,
             "#8e0152"
            ],
            [
             0.1,
             "#c51b7d"
            ],
            [
             0.2,
             "#de77ae"
            ],
            [
             0.3,
             "#f1b6da"
            ],
            [
             0.4,
             "#fde0ef"
            ],
            [
             0.5,
             "#f7f7f7"
            ],
            [
             0.6,
             "#e6f5d0"
            ],
            [
             0.7,
             "#b8e186"
            ],
            [
             0.8,
             "#7fbc41"
            ],
            [
             0.9,
             "#4d9221"
            ],
            [
             1,
             "#276419"
            ]
           ],
           "sequential": [
            [
             0,
             "#0d0887"
            ],
            [
             0.1111111111111111,
             "#46039f"
            ],
            [
             0.2222222222222222,
             "#7201a8"
            ],
            [
             0.3333333333333333,
             "#9c179e"
            ],
            [
             0.4444444444444444,
             "#bd3786"
            ],
            [
             0.5555555555555556,
             "#d8576b"
            ],
            [
             0.6666666666666666,
             "#ed7953"
            ],
            [
             0.7777777777777778,
             "#fb9f3a"
            ],
            [
             0.8888888888888888,
             "#fdca26"
            ],
            [
             1,
             "#f0f921"
            ]
           ],
           "sequentialminus": [
            [
             0,
             "#0d0887"
            ],
            [
             0.1111111111111111,
             "#46039f"
            ],
            [
             0.2222222222222222,
             "#7201a8"
            ],
            [
             0.3333333333333333,
             "#9c179e"
            ],
            [
             0.4444444444444444,
             "#bd3786"
            ],
            [
             0.5555555555555556,
             "#d8576b"
            ],
            [
             0.6666666666666666,
             "#ed7953"
            ],
            [
             0.7777777777777778,
             "#fb9f3a"
            ],
            [
             0.8888888888888888,
             "#fdca26"
            ],
            [
             1,
             "#f0f921"
            ]
           ]
          },
          "colorway": [
           "#636efa",
           "#EF553B",
           "#00cc96",
           "#ab63fa",
           "#FFA15A",
           "#19d3f3",
           "#FF6692",
           "#B6E880",
           "#FF97FF",
           "#FECB52"
          ],
          "font": {
           "color": "#2a3f5f"
          },
          "geo": {
           "bgcolor": "white",
           "lakecolor": "white",
           "landcolor": "#E5ECF6",
           "showlakes": true,
           "showland": true,
           "subunitcolor": "white"
          },
          "hoverlabel": {
           "align": "left"
          },
          "hovermode": "closest",
          "mapbox": {
           "style": "light"
          },
          "paper_bgcolor": "white",
          "plot_bgcolor": "#E5ECF6",
          "polar": {
           "angularaxis": {
            "gridcolor": "white",
            "linecolor": "white",
            "ticks": ""
           },
           "bgcolor": "#E5ECF6",
           "radialaxis": {
            "gridcolor": "white",
            "linecolor": "white",
            "ticks": ""
           }
          },
          "scene": {
           "xaxis": {
            "backgroundcolor": "#E5ECF6",
            "gridcolor": "white",
            "gridwidth": 2,
            "linecolor": "white",
            "showbackground": true,
            "ticks": "",
            "zerolinecolor": "white"
           },
           "yaxis": {
            "backgroundcolor": "#E5ECF6",
            "gridcolor": "white",
            "gridwidth": 2,
            "linecolor": "white",
            "showbackground": true,
            "ticks": "",
            "zerolinecolor": "white"
           },
           "zaxis": {
            "backgroundcolor": "#E5ECF6",
            "gridcolor": "white",
            "gridwidth": 2,
            "linecolor": "white",
            "showbackground": true,
            "ticks": "",
            "zerolinecolor": "white"
           }
          },
          "shapedefaults": {
           "line": {
            "color": "#2a3f5f"
           }
          },
          "ternary": {
           "aaxis": {
            "gridcolor": "white",
            "linecolor": "white",
            "ticks": ""
           },
           "baxis": {
            "gridcolor": "white",
            "linecolor": "white",
            "ticks": ""
           },
           "bgcolor": "#E5ECF6",
           "caxis": {
            "gridcolor": "white",
            "linecolor": "white",
            "ticks": ""
           }
          },
          "title": {
           "x": 0.05
          },
          "xaxis": {
           "automargin": true,
           "gridcolor": "white",
           "linecolor": "white",
           "ticks": "",
           "title": {
            "standoff": 15
           },
           "zerolinecolor": "white",
           "zerolinewidth": 2
          },
          "yaxis": {
           "automargin": true,
           "gridcolor": "white",
           "linecolor": "white",
           "ticks": "",
           "title": {
            "standoff": 15
           },
           "zerolinecolor": "white",
           "zerolinewidth": 2
          }
         }
        },
        "title": {
         "text": "Correlation heatmap of dataframe"
        },
        "xaxis": {
         "anchor": "y",
         "constrain": "domain",
         "domain": [
          0,
          1
         ],
         "scaleanchor": "y"
        },
        "yaxis": {
         "anchor": "x",
         "autorange": "reversed",
         "constrain": "domain",
         "domain": [
          0,
          1
         ]
        }
       }
      }
     },
     "metadata": {},
     "output_type": "display_data"
    }
   ],
   "source": [
    "import plotly.express as px\n",
    "px.imshow(df.corr(), title=\"Correlation heatmap of dataframe\")"
   ]
  },
  {
   "cell_type": "code",
   "execution_count": 117,
   "metadata": {},
   "outputs": [
    {
     "data": {
      "text/html": [
       "<div>\n",
       "<style scoped>\n",
       "    .dataframe tbody tr th:only-of-type {\n",
       "        vertical-align: middle;\n",
       "    }\n",
       "\n",
       "    .dataframe tbody tr th {\n",
       "        vertical-align: top;\n",
       "    }\n",
       "\n",
       "    .dataframe thead th {\n",
       "        text-align: right;\n",
       "    }\n",
       "</style>\n",
       "<table border=\"1\" class=\"dataframe\">\n",
       "  <thead>\n",
       "    <tr style=\"text-align: right;\">\n",
       "      <th></th>\n",
       "      <th>UDI</th>\n",
       "      <th>Product_ID</th>\n",
       "      <th>Type</th>\n",
       "      <th>Air_temperature_K</th>\n",
       "      <th>Process_temperature_K</th>\n",
       "      <th>Torque_Nm</th>\n",
       "      <th>Tool_wear_min</th>\n",
       "      <th>Machine_failure</th>\n",
       "      <th>TWF</th>\n",
       "      <th>HDF</th>\n",
       "      <th>PWF</th>\n",
       "      <th>OSF</th>\n",
       "      <th>RNF</th>\n",
       "    </tr>\n",
       "  </thead>\n",
       "  <tbody>\n",
       "    <tr>\n",
       "      <th>0</th>\n",
       "      <td>3416.0</td>\n",
       "      <td>L50595</td>\n",
       "      <td>L</td>\n",
       "      <td>301.4</td>\n",
       "      <td>310.4</td>\n",
       "      <td>36.9</td>\n",
       "      <td>133.0</td>\n",
       "      <td>0.021618</td>\n",
       "      <td>0.003188</td>\n",
       "      <td>0.00743</td>\n",
       "      <td>0.006127</td>\n",
       "      <td>0.006322</td>\n",
       "      <td>0.003067</td>\n",
       "    </tr>\n",
       "    <tr>\n",
       "      <th>1</th>\n",
       "      <td>7130.0</td>\n",
       "      <td>L54309</td>\n",
       "      <td>L</td>\n",
       "      <td>300.6</td>\n",
       "      <td>310.0</td>\n",
       "      <td>31.0</td>\n",
       "      <td>107.0</td>\n",
       "      <td>0.021618</td>\n",
       "      <td>0.003188</td>\n",
       "      <td>0.00743</td>\n",
       "      <td>0.006127</td>\n",
       "      <td>0.006322</td>\n",
       "      <td>0.003067</td>\n",
       "    </tr>\n",
       "    <tr>\n",
       "      <th>2</th>\n",
       "      <td>2320.0</td>\n",
       "      <td>M17179</td>\n",
       "      <td>M</td>\n",
       "      <td>299.2</td>\n",
       "      <td>308.8</td>\n",
       "      <td>33.5</td>\n",
       "      <td>185.0</td>\n",
       "      <td>0.021618</td>\n",
       "      <td>0.003188</td>\n",
       "      <td>0.00743</td>\n",
       "      <td>0.006127</td>\n",
       "      <td>0.006322</td>\n",
       "      <td>0.003067</td>\n",
       "    </tr>\n",
       "    <tr>\n",
       "      <th>3</th>\n",
       "      <td>9601.0</td>\n",
       "      <td>M24460</td>\n",
       "      <td>M</td>\n",
       "      <td>298.9</td>\n",
       "      <td>310.0</td>\n",
       "      <td>45.3</td>\n",
       "      <td>58.0</td>\n",
       "      <td>0.021618</td>\n",
       "      <td>0.003188</td>\n",
       "      <td>0.00743</td>\n",
       "      <td>0.006127</td>\n",
       "      <td>0.006322</td>\n",
       "      <td>0.003067</td>\n",
       "    </tr>\n",
       "    <tr>\n",
       "      <th>4</th>\n",
       "      <td>614.0</td>\n",
       "      <td>L47793</td>\n",
       "      <td>L</td>\n",
       "      <td>298.1</td>\n",
       "      <td>309.9</td>\n",
       "      <td>30.0</td>\n",
       "      <td>53.0</td>\n",
       "      <td>0.021618</td>\n",
       "      <td>0.003188</td>\n",
       "      <td>0.00743</td>\n",
       "      <td>0.006127</td>\n",
       "      <td>0.006322</td>\n",
       "      <td>0.003067</td>\n",
       "    </tr>\n",
       "  </tbody>\n",
       "</table>\n",
       "</div>"
      ],
      "text/plain": [
       "      UDI Product_ID Type  Air_temperature_K  Process_temperature_K  \\\n",
       "0  3416.0     L50595    L              301.4                  310.4   \n",
       "1  7130.0     L54309    L              300.6                  310.0   \n",
       "2  2320.0     M17179    M              299.2                  308.8   \n",
       "3  9601.0     M24460    M              298.9                  310.0   \n",
       "4   614.0     L47793    L              298.1                  309.9   \n",
       "\n",
       "   Torque_Nm  Tool_wear_min  Machine_failure       TWF      HDF       PWF  \\\n",
       "0       36.9          133.0         0.021618  0.003188  0.00743  0.006127   \n",
       "1       31.0          107.0         0.021618  0.003188  0.00743  0.006127   \n",
       "2       33.5          185.0         0.021618  0.003188  0.00743  0.006127   \n",
       "3       45.3           58.0         0.021618  0.003188  0.00743  0.006127   \n",
       "4       30.0           53.0         0.021618  0.003188  0.00743  0.006127   \n",
       "\n",
       "        OSF       RNF  \n",
       "0  0.006322  0.003067  \n",
       "1  0.006322  0.003067  \n",
       "2  0.006322  0.003067  \n",
       "3  0.006322  0.003067  \n",
       "4  0.006322  0.003067  "
      ]
     },
     "execution_count": 117,
     "metadata": {},
     "output_type": "execute_result"
    }
   ],
   "source": [
    "df.drop('Rotational_speed_rpm', axis=1, inplace=True)\n",
    "df.head()"
   ]
  },
  {
   "cell_type": "code",
   "execution_count": 113,
   "metadata": {},
   "outputs": [
    {
     "name": "stdout",
     "output_type": "stream",
     "text": [
      "0.7951800694745133 0.7951421511798512 0.8427644280834368 0.00020160180821748863 0.00038352779287309513\n"
     ]
    }
   ],
   "source": [
    "#df.columns = df.columns.str.replace(' ', '_')\n",
    "#df.columns = df.columns.str.replace('[', '')\n",
    "#df.columns = df.columns.str.replace(']', '')\n",
    "model0 = smf.ols('Air_temperature_K ~ Process_temperature_K + Rotational_speed_rpm + Torque_Nm + Tool_wear_min', df).fit()\n",
    "model1 = smf.ols('Process_temperature_K ~ Air_temperature_K + Rotational_speed_rpm + Torque_Nm + Tool_wear_min', df).fit()\n",
    "model2 = smf.ols('Rotational_speed_rpm ~ Process_temperature_K + Air_temperature_K + Torque_Nm + Tool_wear_min', df).fit()\n",
    "model3 = smf.ols('Torque_Nm ~ Process_temperature_K + Air_temperature_K + Tool_wear_min', df).fit()\n",
    "model4 = smf.ols('Tool_wear_min ~ Process_temperature_K + Air_temperature_K + Rotational_speed_rpm + Torque_Nm', df).fit()\n",
    "print(model0.rsquared, model1.rsquared, model2.rsquared, model3.rsquared, model4.rsquared)\n"
   ]
  }
 ],
 "metadata": {
  "kernelspec": {
   "display_name": "base",
   "language": "python",
   "name": "python3"
  },
  "language_info": {
   "codemirror_mode": {
    "name": "ipython",
    "version": 3
   },
   "file_extension": ".py",
   "mimetype": "text/x-python",
   "name": "python",
   "nbconvert_exporter": "python",
   "pygments_lexer": "ipython3",
   "version": "3.8.17"
  }
 },
 "nbformat": 4,
 "nbformat_minor": 2
}
